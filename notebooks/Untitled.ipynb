{
 "cells": [
  {
   "cell_type": "code",
   "execution_count": 1,
   "metadata": {},
   "outputs": [],
   "source": [
    "%matplotlib notebook"
   ]
  },
  {
   "cell_type": "code",
   "execution_count": 232,
   "metadata": {},
   "outputs": [],
   "source": [
    "import numpy as np\n",
    "import matplotlib.pyplot as plt\n",
    "import scipy.ndimage as ndimage\n",
    "import time\n",
    "from tqdm import tqdm"
   ]
  },
  {
   "cell_type": "code",
   "execution_count": null,
   "metadata": {},
   "outputs": [],
   "source": [
    "class DiffMatrix():\n",
    "    \n",
    "    def __init__(self,\n",
    "                size= 300,\n",
    "                seed = 42,\n",
    "                diffusion_characteristics = 'default'):\n",
    "#       Reaction caracteristics\n",
    "        if diffusion_characteristics == 'default':\n",
    "            self.diff_a = 1\n",
    "            self.diff_b = 0.5\n",
    "            self.feed_rate = 0.055\n",
    "            self.kill_rate = 0.062\n",
    "            self.timestep = 1\n",
    "            self.diff_func = self.laplacian2D\n",
    "\n",
    "            self.size = size\n",
    "            self.matrix_shape = (int(self.size), int(self.size))\n",
    "            self.seed= seed\n",
    "            self.matrix_a = self.initiate_matrix()\n",
    "            self.matrix_b = self.initiate_matrix()\n",
    "            self.matrix_a_new = self.initiate_matrix()\n",
    "            self.matrix_b_new = self.initiate_matrix()\n",
    "       \n",
    "    def fill_matrix_tiny(self):\n",
    "        self.matrix_a[1][2] = 0.3\n",
    "        self.matrix_a[1][3] = 0.3\n",
    "        self.matrix_a[2][2] = 0.3\n",
    "\n",
    "    def fill_matrix_random(self):\n",
    "        self.matrix_a = np.random.rand(*self.matrix_shape)\n",
    "        self.matrix_b = np.random.rand(*self.matrix_shape)\n",
    "\n",
    "        \n",
    "    def initiate_matrix(self):\n",
    "        matrix = np.zeros(self.matrix_shape)\n",
    "        return matrix\n",
    "        \n",
    "            \n",
    "    def diffuse(self):\n",
    "        # diffuse trough the space\n",
    "        self.diffuse_a = self.matrix_a * self.laplacian2D(self.matrix_a) * self.diff_a\n",
    "        self.diffuse_b = self.matrix_b * self.laplacian2D(self.matrix_b) * self.diff_b\n",
    "        \n",
    "    def react(self):\n",
    "        #consume a and turn it into b\n",
    "        self.react_a = self.matrix_a * self.matrix_b * self.matrix_b\n",
    "        self.react_b = self.matrix_a * self.matrix_b * self.matrix_b\n",
    "        \n",
    "    def feed(self):\n",
    "        # create a up until 1\n",
    "        self.feed_a = self.feed_rate * (1- self.matrix_a)\n",
    "        #bestroy b if any\n",
    "        self.feed_b = (self.feed_rate + self.kill_rate)* self.matrix_b\n",
    "\n",
    "    \n",
    "    def find_multiplier(self,x,y):\n",
    "        multi_dict = {\n",
    "            0: -1,\n",
    "            1: 0.2,\n",
    "            2: 0.05\n",
    "        }\n",
    "        total = abs(x) + abs(y)\n",
    "        return multi_dict[total]\n",
    "    \n",
    "        \n",
    "    def laplacian2D(self, matrix):\n",
    "        x_coord = (-1,0,1)\n",
    "        y_coord = (-1,0,1)\n",
    "        matrix_new = np.empty(self.matrix_shape)\n",
    "        \n",
    "        for x in x_coord:\n",
    "            rolled_x = np.roll(matrix,x,axis=0)\n",
    "            for y in y_coord:\n",
    "                multi = self.find_multiplier(x,y)\n",
    "                rolled_y = np.roll(rolled_x,y,axis=1)\n",
    "                matrix_new += (multi * rolled_y)\n",
    "#                 print(f'x:{x} y:{y}')\n",
    "#                 print(multi * rolled_y)\n",
    "#                 print(matrix_new)\n",
    "        return matrix_new\n",
    "    \n",
    "     \n",
    "    def lap_filter(self,x):\n",
    "        return x.max()\n",
    "#         import pdb; pdb.set_trace()\n",
    "    dm.matrix_a = ndimage.generic_filter(dm.matrix_a, self.lap_filter, size=(3,3))\n",
    "\n",
    "        \n",
    "    def _next(self):\n",
    "        print('=== start')\n",
    "        print(self.matrix_a)\n",
    "        print('--')\n",
    "        print(self.matrix_b)\n",
    "        print('diff')\n",
    "        self.diffuse()\n",
    "        print(self.diffuse_a)\n",
    "        print('--')\n",
    "        print(self.diffuse_b)\n",
    "        print('react')\n",
    "        self.react()\n",
    "        print(self.react_a)\n",
    "        print('--')\n",
    "        print(self.react_b)\n",
    "        print('feed')\n",
    "        self.feed()\n",
    "        print(self.feed_a)\n",
    "        print('--')\n",
    "        print(self.feed_b)\n",
    "        print('update')\n",
    "        \n",
    "        \n",
    "        dm.matrix_a = ndimage.generic_filter(dm.matrix_a, self.lap_filter, size=(3,3))\n",
    "        \n",
    "        \n",
    "        self.matrix_a += self.diffuse_a - self.react_a + self.feed_a\n",
    "        self.matrix_b += self.diffuse_b + self.react_b - self.feed_b\n"
   ]
  },
  {
   "cell_type": "code",
   "execution_count": 247,
   "metadata": {},
   "outputs": [
    {
     "name": "stdout",
     "output_type": "stream",
     "text": [
      "[[0.  0.  0.  0.  0.  0.  0. ]\n",
      " [0.  0.  0.3 0.3 0.  0.  0. ]\n",
      " [0.  0.  0.3 0.  0.  0.  0. ]\n",
      " [0.  0.  0.  0.  0.  0.  0. ]\n",
      " [0.  0.  0.  0.  0.  0.  0. ]\n",
      " [0.  0.  0.  0.  0.  0.  0. ]\n",
      " [0.  0.  0.  0.  0.  0.  0. ]]\n",
      "[[0. 0. 0. 0. 0. 0. 0.]\n",
      " [0. 0. 0. 0. 0. 0. 0.]\n",
      " [0. 0. 0. 0. 0. 0. 0.]\n",
      " [0. 0. 0. 0. 0. 0. 0.]\n",
      " [0. 0. 0. 0. 0. 0. 0.]\n",
      " [0. 0. 0. 0. 0. 0. 0.]\n",
      " [0. 0. 0. 0. 0. 0. 0.]]\n"
     ]
    }
   ],
   "source": [
    "dm = DiffMatrix(size = 7)\n",
    "# dm.fill_matrix_random()\n",
    "dm.fill_matrix_tiny()\n",
    "print(dm.matrix_a)\n",
    "print(dm.matrix_b)"
   ]
  },
  {
   "cell_type": "code",
   "execution_count": null,
   "metadata": {
    "scrolled": true
   },
   "outputs": [
    {
     "name": "stdout",
     "output_type": "stream",
     "text": [
      "=== start\n",
      "[[0.  0.  0.  0.  0.  0.  0. ]\n",
      " [0.  0.  0.3 0.3 0.  0.  0. ]\n",
      " [0.  0.  0.3 0.  0.  0.  0. ]\n",
      " [0.  0.  0.  0.  0.  0.  0. ]\n",
      " [0.  0.  0.  0.  0.  0.  0. ]\n",
      " [0.  0.  0.  0.  0.  0.  0. ]\n",
      " [0.  0.  0.  0.  0.  0.  0. ]]\n",
      "--\n",
      "[[0. 0. 0. 0. 0. 0. 0.]\n",
      " [0. 0. 0. 0. 0. 0. 0.]\n",
      " [0. 0. 0. 0. 0. 0. 0.]\n",
      " [0. 0. 0. 0. 0. 0. 0.]\n",
      " [0. 0. 0. 0. 0. 0. 0.]\n",
      " [0. 0. 0. 0. 0. 0. 0.]\n",
      " [0. 0. 0. 0. 0. 0. 0.]]\n",
      "diff\n",
      "[[ 0.      0.      0.      0.      0.      0.      0.    ]\n",
      " [ 0.      0.     -0.054  -0.0675  0.      0.      0.    ]\n",
      " [ 0.      0.     -0.0675  0.      0.      0.      0.    ]\n",
      " [ 0.      0.      0.      0.      0.      0.      0.    ]\n",
      " [ 0.      0.      0.      0.      0.      0.      0.    ]\n",
      " [ 0.      0.      0.      0.      0.      0.      0.    ]\n",
      " [ 0.      0.      0.      0.      0.      0.      0.    ]]\n",
      "--\n",
      "[[ 0.  0.  0.  0.  0.  0.  0.]\n",
      " [ 0.  0. -0. -0.  0.  0.  0.]\n",
      " [ 0.  0. -0.  0.  0.  0.  0.]\n",
      " [ 0.  0.  0.  0.  0.  0.  0.]\n",
      " [ 0.  0.  0.  0.  0.  0.  0.]\n",
      " [ 0.  0.  0.  0.  0.  0.  0.]\n",
      " [ 0.  0.  0.  0.  0.  0.  0.]]\n",
      "react\n",
      "[[0. 0. 0. 0. 0. 0. 0.]\n",
      " [0. 0. 0. 0. 0. 0. 0.]\n",
      " [0. 0. 0. 0. 0. 0. 0.]\n",
      " [0. 0. 0. 0. 0. 0. 0.]\n",
      " [0. 0. 0. 0. 0. 0. 0.]\n",
      " [0. 0. 0. 0. 0. 0. 0.]\n",
      " [0. 0. 0. 0. 0. 0. 0.]]\n",
      "--\n",
      "[[0. 0. 0. 0. 0. 0. 0.]\n",
      " [0. 0. 0. 0. 0. 0. 0.]\n",
      " [0. 0. 0. 0. 0. 0. 0.]\n",
      " [0. 0. 0. 0. 0. 0. 0.]\n",
      " [0. 0. 0. 0. 0. 0. 0.]\n",
      " [0. 0. 0. 0. 0. 0. 0.]\n",
      " [0. 0. 0. 0. 0. 0. 0.]]\n",
      "feed\n",
      "[[0.055  0.055  0.055  0.055  0.055  0.055  0.055 ]\n",
      " [0.055  0.055  0.0385 0.0385 0.055  0.055  0.055 ]\n",
      " [0.055  0.055  0.0385 0.055  0.055  0.055  0.055 ]\n",
      " [0.055  0.055  0.055  0.055  0.055  0.055  0.055 ]\n",
      " [0.055  0.055  0.055  0.055  0.055  0.055  0.055 ]\n",
      " [0.055  0.055  0.055  0.055  0.055  0.055  0.055 ]\n",
      " [0.055  0.055  0.055  0.055  0.055  0.055  0.055 ]]\n",
      "--\n",
      "[[0. 0. 0. 0. 0. 0. 0.]\n",
      " [0. 0. 0. 0. 0. 0. 0.]\n",
      " [0. 0. 0. 0. 0. 0. 0.]\n",
      " [0. 0. 0. 0. 0. 0. 0.]\n",
      " [0. 0. 0. 0. 0. 0. 0.]\n",
      " [0. 0. 0. 0. 0. 0. 0.]\n",
      " [0. 0. 0. 0. 0. 0. 0.]]\n",
      "update\n",
      "--Return--\n",
      "> <ipython-input-243-fb42bc58a3a6>(84)lap_filter()->None\n",
      "-> import pdb; pdb.set_trace()\n"
     ]
    }
   ],
   "source": [
    "for i in range(1):\n",
    "    dm._next()\n",
    "print(dm.matrix_a)\n",
    "print(dm.matrix_b)"
   ]
  },
  {
   "cell_type": "code",
   "execution_count": 246,
   "metadata": {},
   "outputs": [],
   "source": [
    "# plt.imshow(dm.matrix_a, cmap='binary', interpolation='nearest')"
   ]
  },
  {
   "cell_type": "code",
   "execution_count": 241,
   "metadata": {},
   "outputs": [],
   "source": [
    "def test(x):\n",
    "    return x.mean()\n",
    "\n",
    "dm.matrix_a = ndimage.generic_filter(dm.matrix_a, test, size=(3,3))"
   ]
  },
  {
   "cell_type": "code",
   "execution_count": 242,
   "metadata": {},
   "outputs": [
    {
     "data": {
      "text/plain": [
       "array([[0.        , 0.00159573, 0.00301439, 0.00301439, 0.00141866,\n",
       "        0.        , 0.        ],\n",
       "       [0.        , 0.00301439, 0.00443306, 0.00443306, 0.00141866,\n",
       "        0.        , 0.        ],\n",
       "       [0.        , 0.00301439, 0.00443306, 0.00443306, 0.00141866,\n",
       "        0.        , 0.        ],\n",
       "       [0.        , 0.00141866, 0.00141866, 0.00141866, 0.        ,\n",
       "        0.        , 0.        ],\n",
       "       [0.        , 0.        , 0.        , 0.        , 0.        ,\n",
       "        0.        , 0.        ],\n",
       "       [0.        , 0.        , 0.        , 0.        , 0.        ,\n",
       "        0.        , 0.        ],\n",
       "       [0.        , 0.        , 0.        , 0.        , 0.        ,\n",
       "        0.        , 0.        ]])"
      ]
     },
     "execution_count": 242,
     "metadata": {},
     "output_type": "execute_result"
    }
   ],
   "source": [
    "result"
   ]
  },
  {
   "cell_type": "code",
   "execution_count": 204,
   "metadata": {},
   "outputs": [],
   "source": []
  },
  {
   "cell_type": "code",
   "execution_count": 205,
   "metadata": {},
   "outputs": [
    {
     "data": {
      "text/plain": [
       "5"
      ]
     },
     "execution_count": 205,
     "metadata": {},
     "output_type": "execute_result"
    }
   ],
   "source": [
    "plt.imshow(a, cmap='binary', interpolation='nearest')\n",
    "    plt.show()"
   ]
  }
 ],
 "metadata": {
  "kernelspec": {
   "display_name": "Python 3",
   "language": "python",
   "name": "python3"
  },
  "language_info": {
   "codemirror_mode": {
    "name": "ipython",
    "version": 3
   },
   "file_extension": ".py",
   "mimetype": "text/x-python",
   "name": "python",
   "nbconvert_exporter": "python",
   "pygments_lexer": "ipython3",
   "version": "3.7.3"
  }
 },
 "nbformat": 4,
 "nbformat_minor": 2
}
