{
 "cells": [
  {
   "cell_type": "code",
   "execution_count": 1,
   "metadata": {},
   "outputs": [],
   "source": [
    "import numpy as np\n",
    "import scipy.ndimage as ndimage\n"
   ]
  },
  {
   "cell_type": "code",
   "execution_count": null,
   "metadata": {},
   "outputs": [],
   "source": []
  },
  {
   "cell_type": "code",
   "execution_count": 8,
   "metadata": {},
   "outputs": [],
   "source": [
    "class DiffMatrix():\n",
    "    \n",
    "    def __init__(self,\n",
    "                size= 300,\n",
    "                diffusion_characteristics = 'default'):\n",
    "#       Reaction caracteristics\n",
    "        if diffusion_characteristics == 'default':\n",
    "            self.diff_a = 1\n",
    "            self.diff_b = 0.5\n",
    "            self.feed_rate = 0.055\n",
    "            self.kill_rate = 0.062\n",
    "            self.timestep = 1\n",
    "            self.laplace_window = 3\n",
    "        \n",
    "        self.size = size\n",
    "        self.matrix_shape = (int(self.size), int(self.size))\n",
    "        self.matrix_a = self.initiate_matrix()\n",
    "        self.matrix_b = self.initiate_matrix()\n",
    "        self.matrix_a_new = self.initiate_matrix()\n",
    "        self.matrix_b_new = self.initiate_matrix()\n",
    "    \n",
    "    def initiate_matrix(self):\n",
    "        matrix = np.zeros(self.matrix_shape)\n",
    "        return matrix\n",
    "    \n",
    "    def fill_matrix_tiny(self):\n",
    "        for matrix in (self.matrix_a, self.matrix_b):\n",
    "            matrix[1][2] = 0.3\n",
    "            matrix[1][3] = 0.3\n",
    "            matrix[2][2] = 0.3\n",
    "\n",
    "    def fill_matrix_random(self):\n",
    "        self.matrix_a = np.random.rand(*self.matrix_shape)\n",
    "        self.matrix_b = np.random.rand(*self.matrix_shape)\n",
    "        \n",
    "    def fill_matrix_propper(self):\n",
    "        self.matrix_a = np.ones(self.matrix_shape)\n",
    "        self.matrix_b = np.zeros(self.matrix_shape)\n",
    "        \n",
    "        start_b = int(0.45 * self.size)\n",
    "        end_b = int(0.55 * self.size)\n",
    "        self.matrix_b[start_b:end_b,start_b:end_b] = 1\n",
    "\n",
    "    \n",
    "    def switch_new(self):\n",
    "        self.matrix_a = self.matrix_a_new.copy()\n",
    "        self.matrix_b = self.matrix_b_new.copy()\n",
    "    \n",
    "    def feed(self):\n",
    "        # create a up until 1\n",
    "        self.matrix_a_new += self.feed_rate * (1- self.matrix_a)\n",
    "        #bestroy b if any\n",
    "        self.matrix_b_new -= (self.feed_rate + self.kill_rate) * self.matrix_b\n",
    "    \n",
    "    def react(self):\n",
    "        #consume a and turn it into b\n",
    "        reaction_rate = self.matrix_a * self.matrix_b * self.matrix_b\n",
    "        self.matrix_a_new -= reaction_rate\n",
    "        self.matrix_b_new += reaction_rate    \n",
    "        \n",
    "    def diffuse(self):\n",
    "        dm.matrix_a_new = ndimage.generic_filter(dm.matrix_a, self.lap_filter, size=(3,3))\n",
    "        dm.matrix_b_new = ndimage.generic_filter(dm.matrix_b, self.lap_filter, size=(3,3))\n",
    "        \n",
    "        \n",
    "    def lap_filter(self,x):\n",
    "        x = x.reshape((self.laplace_window,self.laplace_window))\n",
    "        filter_total = x[1][1] * -1\n",
    "        # cross:\n",
    "        filter_total += x[1][0] * 0.2\n",
    "        filter_total += x[0][1] * 0.2\n",
    "        filter_total += x[1][2] * 0.2\n",
    "        filter_total += x[2][1] * 0.2\n",
    "\n",
    "        #diag\n",
    "        filter_total += x[0][0] * 0.05\n",
    "        filter_total += x[2][0] * 0.05\n",
    "        filter_total += x[0][2] * 0.05\n",
    "        filter_total += x[2][2] * 0.05\n",
    "        return filter_total\n",
    "\n",
    "    def _next(self):\n",
    "\n",
    "        self.diffuse()\n",
    "        self.feed()\n",
    "        self.react()\n",
    "\n",
    "        self.switch_new()\n",
    "#         self.matrix_a_new = self.initiate_matrix()\n",
    "#         self.matrix_b_new = self.initiate_matrix()\n",
    "    \n"
   ]
  },
  {
   "cell_type": "code",
   "execution_count": 3,
   "metadata": {},
   "outputs": [],
   "source": [
    "A = np.reshape(range(16),(4,4))"
   ]
  },
  {
   "cell_type": "code",
   "execution_count": null,
   "metadata": {},
   "outputs": [],
   "source": []
  },
  {
   "cell_type": "code",
   "execution_count": 4,
   "metadata": {},
   "outputs": [],
   "source": []
  },
  {
   "cell_type": "code",
   "execution_count": 5,
   "metadata": {},
   "outputs": [],
   "source": [
    "A = np.reshape([0.0,0,0,0,1,0,0,0,0],(3,3))\n",
    "B = np.reshape([0.0,0,0,0,0,0,0,0,0],(3,3))\n",
    "B = ndimage.generic_filter(A, lap_filter, size=(3,3))"
   ]
  },
  {
   "cell_type": "code",
   "execution_count": null,
   "metadata": {},
   "outputs": [],
   "source": [
    "\n"
   ]
  },
  {
   "cell_type": "code",
   "execution_count": null,
   "metadata": {},
   "outputs": [],
   "source": []
  },
  {
   "cell_type": "code",
   "execution_count": null,
   "metadata": {},
   "outputs": [],
   "source": []
  },
  {
   "cell_type": "code",
   "execution_count": null,
   "metadata": {},
   "outputs": [],
   "source": []
  },
  {
   "cell_type": "code",
   "execution_count": 9,
   "metadata": {},
   "outputs": [],
   "source": [
    "dm = DiffMatrix(100)\n",
    "dm.fill_matrix_propper()"
   ]
  },
  {
   "cell_type": "code",
   "execution_count": 6,
   "metadata": {},
   "outputs": [
    {
     "data": {
      "text/plain": [
       "array([[1., 1., 1., ..., 1., 1., 1.],\n",
       "       [1., 1., 1., ..., 1., 1., 1.],\n",
       "       [1., 1., 1., ..., 1., 1., 1.],\n",
       "       ...,\n",
       "       [1., 1., 1., ..., 1., 1., 1.],\n",
       "       [1., 1., 1., ..., 1., 1., 1.],\n",
       "       [1., 1., 1., ..., 1., 1., 1.]])"
      ]
     },
     "execution_count": 6,
     "metadata": {},
     "output_type": "execute_result"
    }
   ],
   "source": [
    "dm.matrix_a"
   ]
  },
  {
   "cell_type": "code",
   "execution_count": 10,
   "metadata": {},
   "outputs": [
    {
     "name": "stderr",
     "output_type": "stream",
     "text": [
      "/usr/local/anaconda3/lib/python3.7/site-packages/ipykernel_launcher.py:57: RuntimeWarning: overflow encountered in multiply\n"
     ]
    }
   ],
   "source": [
    "for i in range(10):\n",
    "    dm._next()"
   ]
  },
  {
   "cell_type": "code",
   "execution_count": 62,
   "metadata": {},
   "outputs": [
    {
     "data": {
      "text/plain": [
       "nan"
      ]
     },
     "execution_count": 62,
     "metadata": {},
     "output_type": "execute_result"
    }
   ],
   "source": [
    "dm.matrix_a.mean()"
   ]
  }
 ],
 "metadata": {
  "kernelspec": {
   "display_name": "Python 3",
   "language": "python",
   "name": "python3"
  },
  "language_info": {
   "codemirror_mode": {
    "name": "ipython",
    "version": 3
   },
   "file_extension": ".py",
   "mimetype": "text/x-python",
   "name": "python",
   "nbconvert_exporter": "python",
   "pygments_lexer": "ipython3",
   "version": "3.7.3"
  }
 },
 "nbformat": 4,
 "nbformat_minor": 2
}
