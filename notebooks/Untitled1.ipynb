{
 "cells": [
  {
   "cell_type": "code",
   "execution_count": 1,
   "metadata": {},
   "outputs": [],
   "source": [
    "import numpy as np\n",
    "import matplotlib.pyplot as plt\n",
    "import scipy.ndimage as ndimage\n",
    "import time\n",
    "from tqdm import tqdm"
   ]
  },
  {
   "cell_type": "code",
   "execution_count": 2,
   "metadata": {},
   "outputs": [],
   "source": [
    "%matplotlib notebook"
   ]
  },
  {
   "cell_type": "code",
   "execution_count": 25,
   "metadata": {},
   "outputs": [],
   "source": [
    "class DiffMatrix():\n",
    "    \n",
    "    def __init__(self,\n",
    "                size= 300,\n",
    "                diffusion_characteristics = 'default'):\n",
    "#       Reaction caracteristics\n",
    "        if diffusion_characteristics == 'default':\n",
    "            self.diff_a = 1\n",
    "            self.diff_b = 0.5\n",
    "            self.feed_rate = 0.055\n",
    "            self.kill_rate = 0.062\n",
    "            self.timestep = 1\n",
    "            self.laplace_window = 3\n",
    "        \n",
    "    \n",
    "        self.size = size\n",
    "        self.matrix_shape = (int(self.size), int(self.size))\n",
    "        self.matrix_a = self.initiate_matrix()\n",
    "        self.matrix_b = self.initiate_matrix()\n",
    "        self.matrix_a_new = self.initiate_matrix()\n",
    "        self.matrix_b_new = self.initiate_matrix()\n",
    "    \n",
    "    def initiate_matrix(self):\n",
    "        matrix = np.zeros(self.matrix_shape)\n",
    "        return matrix\n",
    "    \n",
    "    def fill_matrix_tiny(self):\n",
    "        for matrix in (self.matrix_a, self.matrix_b):\n",
    "            matrix[1][2] = 0.3\n",
    "            matrix[1][3] = 0.3\n",
    "            matrix[2][2] = 0.3\n",
    "\n",
    "    def fill_matrix_random(self):\n",
    "        self.matrix_a = np.random.rand(*self.matrix_shape)\n",
    "        self.matrix_b = np.random.rand(*self.matrix_shape)\n",
    "        \n",
    "    def fill_matrix_propper(self):\n",
    "        self.matrix_a = np.ones(self.matrix_shape)\n",
    "        self.matrix_b = np.zeros(self.matrix_shape)\n",
    "        \n",
    "        start_b = int(0.3 * self.size)\n",
    "        end_b = int(0.7 * self.size)\n",
    "        self.matrix_b[start_b:end_b,start_b:end_b] = 1\n",
    "\n",
    "    \n",
    "    def switch_new(self):\n",
    "        self.matrix_a = self.matrix_a_new.copy()\n",
    "        self.matrix_b = self.matrix_b_new.copy()\n",
    "    \n",
    "    def feed(self):\n",
    "        # create a up until 1\n",
    "        self.matrix_a_new += self.feed_rate * (1- self.matrix_a)\n",
    "        #bestroy b if any\n",
    "        self.matrix_b_new -= (self.feed_rate + self.kill_rate)* self.matrix_b\n",
    "    \n",
    "    def react(self):\n",
    "        #consume a and turn it into b\n",
    "        reaction_rate = self.matrix_a * self.matrix_b * self.matrix_b\n",
    "        self.matrix_a_new -= reaction_rate\n",
    "        self.matrix_b_new += reaction_rate\n",
    "        \n",
    "        \n",
    "    def diffuse(self):\n",
    "        dm.matrix_a_new += ndimage.generic_filter(dm.matrix_a, self.lap_filter, size=(3,3))\n",
    "    \n",
    "    def lap_filter(self,x):\n",
    "        x = x.reshape((self.laplace_window,self.laplace_window))\n",
    "        filter_total = x[1][1] * -1\n",
    "        \n",
    "        # cross:\n",
    "        filter_total += x[1][1] * 0.2\n",
    "        filter_total += x[0][1] * 0.2\n",
    "        filter_total += x[1][2] * 0.2\n",
    "        filter_total += x[2][1] * 0.2\n",
    "        \n",
    "        #diag\n",
    "        filter_total += x[0][0] * 0.05\n",
    "        filter_total += x[2][0] * 0.05\n",
    "        filter_total += x[0][2] * 0.05\n",
    "        filter_total += x[2][2] * 0.05\n",
    "        \n",
    "        return filter_total\n",
    "    \n",
    "    def _next(self):\n",
    "#         print('=== start')\n",
    "#         print('diffuse')\n",
    "        self.diffuse()\n",
    "#         print(self.matrix_a_new)\n",
    "\n",
    "#         print('feed')\n",
    "        self.feed()\n",
    "#         print(self.matrix_a_new)\n",
    "#         print('react')\n",
    "        self.react()\n",
    "#         print(self.matrix_a_new)\n",
    "\n",
    "        self.switch_new()\n",
    "        self.matrix_a_new = self.initiate_matrix()\n",
    "        self.matrix_b_new = self.initiate_matrix()\n",
    "    \n",
    "        "
   ]
  },
  {
   "cell_type": "code",
   "execution_count": 26,
   "metadata": {},
   "outputs": [],
   "source": [
    "# dm.matrix_a.mean()\n",
    "# dm.matrix_b[3:]\n",
    "def plot_matrixes(dm):\n",
    "    fig, axes = plt.subplots(nrows=1, ncols=2, sharex=True)\n",
    "    axes[0].imshow(dm.matrix_a, cmap='binary', interpolation='nearest',vmin=0, vmax=1)\n",
    "    axes[1].imshow(dm.matrix_b, cmap='binary', interpolation='nearest',vmin=0, vmax=1)"
   ]
  },
  {
   "cell_type": "code",
   "execution_count": 35,
   "metadata": {},
   "outputs": [
    {
     "name": "stdout",
     "output_type": "stream",
     "text": [
      "1.0\n",
      "0.16\n"
     ]
    }
   ],
   "source": [
    "dm = DiffMatrix(size = 200)\n",
    "dm.fill_matrix_propper()\n",
    "print(dm.matrix_a.mean())\n",
    "print(dm.matrix_b.mean())"
   ]
  },
  {
   "cell_type": "code",
   "execution_count": null,
   "metadata": {},
   "outputs": [],
   "source": []
  },
  {
   "cell_type": "code",
   "execution_count": null,
   "metadata": {},
   "outputs": [],
   "source": []
  },
  {
   "cell_type": "code",
   "execution_count": 39,
   "metadata": {},
   "outputs": [
    {
     "name": "stderr",
     "output_type": "stream",
     "text": [
      "  0%|          | 0/30 [00:00<?, ?it/s]/usr/local/anaconda3/lib/python3.7/site-packages/ipykernel_launcher.py:58: RuntimeWarning: overflow encountered in multiply\n"
     ]
    },
    {
     "name": "stdout",
     "output_type": "stream",
     "text": [
      "-1.5151165943940618e+135\n",
      "1.5151165943940618e+135\n"
     ]
    },
    {
     "name": "stderr",
     "output_type": "stream",
     "text": [
      "  3%|▎         | 1/30 [00:00<00:08,  3.32it/s]/usr/local/anaconda3/lib/python3.7/site-packages/ipykernel_launcher.py:71: RuntimeWarning: invalid value encountered in double_scalars\n"
     ]
    },
    {
     "name": "stdout",
     "output_type": "stream",
     "text": [
      "inf\n",
      "-inf\n"
     ]
    },
    {
     "name": "stderr",
     "output_type": "stream",
     "text": [
      "/usr/local/anaconda3/lib/python3.7/site-packages/ipykernel_launcher.py:64: RuntimeWarning: invalid value encountered in add\n",
      "  7%|▋         | 2/30 [00:00<00:08,  3.32it/s]/usr/local/anaconda3/lib/python3.7/site-packages/ipykernel_launcher.py:58: RuntimeWarning: invalid value encountered in multiply\n",
      "/usr/local/anaconda3/lib/python3.7/site-packages/ipykernel_launcher.py:74: RuntimeWarning: invalid value encountered in double_scalars\n",
      "/usr/local/anaconda3/lib/python3.7/site-packages/ipykernel_launcher.py:73: RuntimeWarning: invalid value encountered in double_scalars\n"
     ]
    },
    {
     "name": "stdout",
     "output_type": "stream",
     "text": [
      "nan\n",
      "inf\n"
     ]
    },
    {
     "name": "stderr",
     "output_type": "stream",
     "text": [
      "/usr/local/anaconda3/lib/python3.7/site-packages/ipykernel_launcher.py:77: RuntimeWarning: invalid value encountered in double_scalars\n",
      " 10%|█         | 3/30 [00:00<00:08,  3.26it/s]/usr/local/anaconda3/lib/python3.7/site-packages/numpy/core/_methods.py:75: RuntimeWarning: invalid value encountered in reduce\n",
      "  ret = umr_sum(arr, axis, dtype, out, keepdims)\n"
     ]
    },
    {
     "name": "stdout",
     "output_type": "stream",
     "text": [
      "nan\n",
      "nan\n"
     ]
    },
    {
     "name": "stderr",
     "output_type": "stream",
     "text": [
      "\r",
      " 13%|█▎        | 4/30 [00:01<00:08,  3.16it/s]"
     ]
    },
    {
     "name": "stdout",
     "output_type": "stream",
     "text": [
      "nan\n",
      "nan\n"
     ]
    },
    {
     "name": "stderr",
     "output_type": "stream",
     "text": [
      "\r",
      " 17%|█▋        | 5/30 [00:01<00:07,  3.26it/s]"
     ]
    },
    {
     "name": "stdout",
     "output_type": "stream",
     "text": [
      "nan\n",
      "nan\n"
     ]
    },
    {
     "name": "stderr",
     "output_type": "stream",
     "text": [
      "\r",
      " 20%|██        | 6/30 [00:01<00:07,  3.19it/s]"
     ]
    },
    {
     "name": "stdout",
     "output_type": "stream",
     "text": [
      "nan\n",
      "nan\n"
     ]
    },
    {
     "name": "stderr",
     "output_type": "stream",
     "text": [
      "\r",
      " 23%|██▎       | 7/30 [00:02<00:06,  3.31it/s]"
     ]
    },
    {
     "name": "stdout",
     "output_type": "stream",
     "text": [
      "nan\n",
      "nan\n"
     ]
    },
    {
     "name": "stderr",
     "output_type": "stream",
     "text": [
      "\r",
      " 27%|██▋       | 8/30 [00:02<00:07,  3.13it/s]"
     ]
    },
    {
     "name": "stdout",
     "output_type": "stream",
     "text": [
      "nan\n",
      "nan\n"
     ]
    },
    {
     "name": "stderr",
     "output_type": "stream",
     "text": [
      "\r",
      " 30%|███       | 9/30 [00:02<00:06,  3.14it/s]"
     ]
    },
    {
     "name": "stdout",
     "output_type": "stream",
     "text": [
      "nan\n",
      "nan\n"
     ]
    },
    {
     "name": "stderr",
     "output_type": "stream",
     "text": [
      "\r",
      " 33%|███▎      | 10/30 [00:03<00:06,  3.06it/s]"
     ]
    },
    {
     "name": "stdout",
     "output_type": "stream",
     "text": [
      "nan\n",
      "nan\n"
     ]
    },
    {
     "name": "stderr",
     "output_type": "stream",
     "text": [
      "\r",
      " 37%|███▋      | 11/30 [00:03<00:05,  3.20it/s]"
     ]
    },
    {
     "name": "stdout",
     "output_type": "stream",
     "text": [
      "nan\n",
      "nan\n"
     ]
    },
    {
     "name": "stderr",
     "output_type": "stream",
     "text": [
      "\r",
      " 40%|████      | 12/30 [00:03<00:05,  3.19it/s]"
     ]
    },
    {
     "name": "stdout",
     "output_type": "stream",
     "text": [
      "nan\n",
      "nan\n"
     ]
    },
    {
     "name": "stderr",
     "output_type": "stream",
     "text": [
      "\r",
      " 43%|████▎     | 13/30 [00:04<00:05,  3.03it/s]"
     ]
    },
    {
     "name": "stdout",
     "output_type": "stream",
     "text": [
      "nan\n",
      "nan\n"
     ]
    },
    {
     "name": "stderr",
     "output_type": "stream",
     "text": [
      "\r",
      " 47%|████▋     | 14/30 [00:04<00:05,  3.02it/s]"
     ]
    },
    {
     "name": "stdout",
     "output_type": "stream",
     "text": [
      "nan\n",
      "nan\n"
     ]
    },
    {
     "name": "stderr",
     "output_type": "stream",
     "text": [
      "\r",
      " 50%|█████     | 15/30 [00:04<00:05,  2.87it/s]"
     ]
    },
    {
     "name": "stdout",
     "output_type": "stream",
     "text": [
      "nan\n",
      "nan\n"
     ]
    },
    {
     "name": "stderr",
     "output_type": "stream",
     "text": [
      "\r",
      " 53%|█████▎    | 16/30 [00:05<00:04,  3.04it/s]"
     ]
    },
    {
     "name": "stdout",
     "output_type": "stream",
     "text": [
      "nan\n",
      "nan\n"
     ]
    },
    {
     "name": "stderr",
     "output_type": "stream",
     "text": [
      "\r",
      " 57%|█████▋    | 17/30 [00:05<00:04,  3.02it/s]"
     ]
    },
    {
     "name": "stdout",
     "output_type": "stream",
     "text": [
      "nan\n",
      "nan\n"
     ]
    },
    {
     "name": "stderr",
     "output_type": "stream",
     "text": [
      "\r",
      " 60%|██████    | 18/30 [00:05<00:03,  3.11it/s]"
     ]
    },
    {
     "name": "stdout",
     "output_type": "stream",
     "text": [
      "nan\n",
      "nan\n"
     ]
    },
    {
     "name": "stderr",
     "output_type": "stream",
     "text": [
      "\r",
      " 63%|██████▎   | 19/30 [00:06<00:03,  2.98it/s]"
     ]
    },
    {
     "name": "stdout",
     "output_type": "stream",
     "text": [
      "nan\n",
      "nan\n"
     ]
    },
    {
     "name": "stderr",
     "output_type": "stream",
     "text": [
      "\r",
      " 67%|██████▋   | 20/30 [00:06<00:03,  3.06it/s]"
     ]
    },
    {
     "name": "stdout",
     "output_type": "stream",
     "text": [
      "nan\n",
      "nan\n"
     ]
    },
    {
     "name": "stderr",
     "output_type": "stream",
     "text": [
      "\r",
      " 70%|███████   | 21/30 [00:06<00:02,  3.16it/s]"
     ]
    },
    {
     "name": "stdout",
     "output_type": "stream",
     "text": [
      "nan\n",
      "nan\n"
     ]
    },
    {
     "name": "stderr",
     "output_type": "stream",
     "text": [
      "\r",
      " 73%|███████▎  | 22/30 [00:07<00:02,  3.22it/s]"
     ]
    },
    {
     "name": "stdout",
     "output_type": "stream",
     "text": [
      "nan\n",
      "nan\n"
     ]
    },
    {
     "name": "stderr",
     "output_type": "stream",
     "text": [
      "\r",
      " 77%|███████▋  | 23/30 [00:07<00:02,  3.28it/s]"
     ]
    },
    {
     "name": "stdout",
     "output_type": "stream",
     "text": [
      "nan\n",
      "nan\n"
     ]
    },
    {
     "name": "stderr",
     "output_type": "stream",
     "text": [
      "\r",
      " 80%|████████  | 24/30 [00:07<00:01,  3.07it/s]"
     ]
    },
    {
     "name": "stdout",
     "output_type": "stream",
     "text": [
      "nan\n",
      "nan\n"
     ]
    },
    {
     "name": "stderr",
     "output_type": "stream",
     "text": [
      "\r",
      " 83%|████████▎ | 25/30 [00:07<00:01,  3.18it/s]"
     ]
    },
    {
     "name": "stdout",
     "output_type": "stream",
     "text": [
      "nan\n",
      "nan\n"
     ]
    },
    {
     "name": "stderr",
     "output_type": "stream",
     "text": [
      "\r",
      " 87%|████████▋ | 26/30 [00:08<00:01,  2.94it/s]"
     ]
    },
    {
     "name": "stdout",
     "output_type": "stream",
     "text": [
      "nan\n",
      "nan\n"
     ]
    },
    {
     "name": "stderr",
     "output_type": "stream",
     "text": [
      "\r",
      " 90%|█████████ | 27/30 [00:08<00:00,  3.10it/s]"
     ]
    },
    {
     "name": "stdout",
     "output_type": "stream",
     "text": [
      "nan\n",
      "nan\n"
     ]
    },
    {
     "name": "stderr",
     "output_type": "stream",
     "text": [
      "\r",
      " 93%|█████████▎| 28/30 [00:08<00:00,  3.21it/s]"
     ]
    },
    {
     "name": "stdout",
     "output_type": "stream",
     "text": [
      "nan\n",
      "nan\n"
     ]
    },
    {
     "name": "stderr",
     "output_type": "stream",
     "text": [
      "\r",
      " 97%|█████████▋| 29/30 [00:09<00:00,  3.23it/s]"
     ]
    },
    {
     "name": "stdout",
     "output_type": "stream",
     "text": [
      "nan\n",
      "nan\n"
     ]
    },
    {
     "name": "stderr",
     "output_type": "stream",
     "text": [
      "\r",
      "100%|██████████| 30/30 [00:09<00:00,  3.29it/s]"
     ]
    },
    {
     "name": "stdout",
     "output_type": "stream",
     "text": [
      "nan\n",
      "nan\n"
     ]
    },
    {
     "name": "stderr",
     "output_type": "stream",
     "text": [
      "\n"
     ]
    },
    {
     "data": {
      "application/javascript": [
       "/* Put everything inside the global mpl namespace */\n",
       "window.mpl = {};\n",
       "\n",
       "\n",
       "mpl.get_websocket_type = function() {\n",
       "    if (typeof(WebSocket) !== 'undefined') {\n",
       "        return WebSocket;\n",
       "    } else if (typeof(MozWebSocket) !== 'undefined') {\n",
       "        return MozWebSocket;\n",
       "    } else {\n",
       "        alert('Your browser does not have WebSocket support.' +\n",
       "              'Please try Chrome, Safari or Firefox ≥ 6. ' +\n",
       "              'Firefox 4 and 5 are also supported but you ' +\n",
       "              'have to enable WebSockets in about:config.');\n",
       "    };\n",
       "}\n",
       "\n",
       "mpl.figure = function(figure_id, websocket, ondownload, parent_element) {\n",
       "    this.id = figure_id;\n",
       "\n",
       "    this.ws = websocket;\n",
       "\n",
       "    this.supports_binary = (this.ws.binaryType != undefined);\n",
       "\n",
       "    if (!this.supports_binary) {\n",
       "        var warnings = document.getElementById(\"mpl-warnings\");\n",
       "        if (warnings) {\n",
       "            warnings.style.display = 'block';\n",
       "            warnings.textContent = (\n",
       "                \"This browser does not support binary websocket messages. \" +\n",
       "                    \"Performance may be slow.\");\n",
       "        }\n",
       "    }\n",
       "\n",
       "    this.imageObj = new Image();\n",
       "\n",
       "    this.context = undefined;\n",
       "    this.message = undefined;\n",
       "    this.canvas = undefined;\n",
       "    this.rubberband_canvas = undefined;\n",
       "    this.rubberband_context = undefined;\n",
       "    this.format_dropdown = undefined;\n",
       "\n",
       "    this.image_mode = 'full';\n",
       "\n",
       "    this.root = $('<div/>');\n",
       "    this._root_extra_style(this.root)\n",
       "    this.root.attr('style', 'display: inline-block');\n",
       "\n",
       "    $(parent_element).append(this.root);\n",
       "\n",
       "    this._init_header(this);\n",
       "    this._init_canvas(this);\n",
       "    this._init_toolbar(this);\n",
       "\n",
       "    var fig = this;\n",
       "\n",
       "    this.waiting = false;\n",
       "\n",
       "    this.ws.onopen =  function () {\n",
       "            fig.send_message(\"supports_binary\", {value: fig.supports_binary});\n",
       "            fig.send_message(\"send_image_mode\", {});\n",
       "            if (mpl.ratio != 1) {\n",
       "                fig.send_message(\"set_dpi_ratio\", {'dpi_ratio': mpl.ratio});\n",
       "            }\n",
       "            fig.send_message(\"refresh\", {});\n",
       "        }\n",
       "\n",
       "    this.imageObj.onload = function() {\n",
       "            if (fig.image_mode == 'full') {\n",
       "                // Full images could contain transparency (where diff images\n",
       "                // almost always do), so we need to clear the canvas so that\n",
       "                // there is no ghosting.\n",
       "                fig.context.clearRect(0, 0, fig.canvas.width, fig.canvas.height);\n",
       "            }\n",
       "            fig.context.drawImage(fig.imageObj, 0, 0);\n",
       "        };\n",
       "\n",
       "    this.imageObj.onunload = function() {\n",
       "        fig.ws.close();\n",
       "    }\n",
       "\n",
       "    this.ws.onmessage = this._make_on_message_function(this);\n",
       "\n",
       "    this.ondownload = ondownload;\n",
       "}\n",
       "\n",
       "mpl.figure.prototype._init_header = function() {\n",
       "    var titlebar = $(\n",
       "        '<div class=\"ui-dialog-titlebar ui-widget-header ui-corner-all ' +\n",
       "        'ui-helper-clearfix\"/>');\n",
       "    var titletext = $(\n",
       "        '<div class=\"ui-dialog-title\" style=\"width: 100%; ' +\n",
       "        'text-align: center; padding: 3px;\"/>');\n",
       "    titlebar.append(titletext)\n",
       "    this.root.append(titlebar);\n",
       "    this.header = titletext[0];\n",
       "}\n",
       "\n",
       "\n",
       "\n",
       "mpl.figure.prototype._canvas_extra_style = function(canvas_div) {\n",
       "\n",
       "}\n",
       "\n",
       "\n",
       "mpl.figure.prototype._root_extra_style = function(canvas_div) {\n",
       "\n",
       "}\n",
       "\n",
       "mpl.figure.prototype._init_canvas = function() {\n",
       "    var fig = this;\n",
       "\n",
       "    var canvas_div = $('<div/>');\n",
       "\n",
       "    canvas_div.attr('style', 'position: relative; clear: both; outline: 0');\n",
       "\n",
       "    function canvas_keyboard_event(event) {\n",
       "        return fig.key_event(event, event['data']);\n",
       "    }\n",
       "\n",
       "    canvas_div.keydown('key_press', canvas_keyboard_event);\n",
       "    canvas_div.keyup('key_release', canvas_keyboard_event);\n",
       "    this.canvas_div = canvas_div\n",
       "    this._canvas_extra_style(canvas_div)\n",
       "    this.root.append(canvas_div);\n",
       "\n",
       "    var canvas = $('<canvas/>');\n",
       "    canvas.addClass('mpl-canvas');\n",
       "    canvas.attr('style', \"left: 0; top: 0; z-index: 0; outline: 0\")\n",
       "\n",
       "    this.canvas = canvas[0];\n",
       "    this.context = canvas[0].getContext(\"2d\");\n",
       "\n",
       "    var backingStore = this.context.backingStorePixelRatio ||\n",
       "\tthis.context.webkitBackingStorePixelRatio ||\n",
       "\tthis.context.mozBackingStorePixelRatio ||\n",
       "\tthis.context.msBackingStorePixelRatio ||\n",
       "\tthis.context.oBackingStorePixelRatio ||\n",
       "\tthis.context.backingStorePixelRatio || 1;\n",
       "\n",
       "    mpl.ratio = (window.devicePixelRatio || 1) / backingStore;\n",
       "\n",
       "    var rubberband = $('<canvas/>');\n",
       "    rubberband.attr('style', \"position: absolute; left: 0; top: 0; z-index: 1;\")\n",
       "\n",
       "    var pass_mouse_events = true;\n",
       "\n",
       "    canvas_div.resizable({\n",
       "        start: function(event, ui) {\n",
       "            pass_mouse_events = false;\n",
       "        },\n",
       "        resize: function(event, ui) {\n",
       "            fig.request_resize(ui.size.width, ui.size.height);\n",
       "        },\n",
       "        stop: function(event, ui) {\n",
       "            pass_mouse_events = true;\n",
       "            fig.request_resize(ui.size.width, ui.size.height);\n",
       "        },\n",
       "    });\n",
       "\n",
       "    function mouse_event_fn(event) {\n",
       "        if (pass_mouse_events)\n",
       "            return fig.mouse_event(event, event['data']);\n",
       "    }\n",
       "\n",
       "    rubberband.mousedown('button_press', mouse_event_fn);\n",
       "    rubberband.mouseup('button_release', mouse_event_fn);\n",
       "    // Throttle sequential mouse events to 1 every 20ms.\n",
       "    rubberband.mousemove('motion_notify', mouse_event_fn);\n",
       "\n",
       "    rubberband.mouseenter('figure_enter', mouse_event_fn);\n",
       "    rubberband.mouseleave('figure_leave', mouse_event_fn);\n",
       "\n",
       "    canvas_div.on(\"wheel\", function (event) {\n",
       "        event = event.originalEvent;\n",
       "        event['data'] = 'scroll'\n",
       "        if (event.deltaY < 0) {\n",
       "            event.step = 1;\n",
       "        } else {\n",
       "            event.step = -1;\n",
       "        }\n",
       "        mouse_event_fn(event);\n",
       "    });\n",
       "\n",
       "    canvas_div.append(canvas);\n",
       "    canvas_div.append(rubberband);\n",
       "\n",
       "    this.rubberband = rubberband;\n",
       "    this.rubberband_canvas = rubberband[0];\n",
       "    this.rubberband_context = rubberband[0].getContext(\"2d\");\n",
       "    this.rubberband_context.strokeStyle = \"#000000\";\n",
       "\n",
       "    this._resize_canvas = function(width, height) {\n",
       "        // Keep the size of the canvas, canvas container, and rubber band\n",
       "        // canvas in synch.\n",
       "        canvas_div.css('width', width)\n",
       "        canvas_div.css('height', height)\n",
       "\n",
       "        canvas.attr('width', width * mpl.ratio);\n",
       "        canvas.attr('height', height * mpl.ratio);\n",
       "        canvas.attr('style', 'width: ' + width + 'px; height: ' + height + 'px;');\n",
       "\n",
       "        rubberband.attr('width', width);\n",
       "        rubberband.attr('height', height);\n",
       "    }\n",
       "\n",
       "    // Set the figure to an initial 600x600px, this will subsequently be updated\n",
       "    // upon first draw.\n",
       "    this._resize_canvas(600, 600);\n",
       "\n",
       "    // Disable right mouse context menu.\n",
       "    $(this.rubberband_canvas).bind(\"contextmenu\",function(e){\n",
       "        return false;\n",
       "    });\n",
       "\n",
       "    function set_focus () {\n",
       "        canvas.focus();\n",
       "        canvas_div.focus();\n",
       "    }\n",
       "\n",
       "    window.setTimeout(set_focus, 100);\n",
       "}\n",
       "\n",
       "mpl.figure.prototype._init_toolbar = function() {\n",
       "    var fig = this;\n",
       "\n",
       "    var nav_element = $('<div/>')\n",
       "    nav_element.attr('style', 'width: 100%');\n",
       "    this.root.append(nav_element);\n",
       "\n",
       "    // Define a callback function for later on.\n",
       "    function toolbar_event(event) {\n",
       "        return fig.toolbar_button_onclick(event['data']);\n",
       "    }\n",
       "    function toolbar_mouse_event(event) {\n",
       "        return fig.toolbar_button_onmouseover(event['data']);\n",
       "    }\n",
       "\n",
       "    for(var toolbar_ind in mpl.toolbar_items) {\n",
       "        var name = mpl.toolbar_items[toolbar_ind][0];\n",
       "        var tooltip = mpl.toolbar_items[toolbar_ind][1];\n",
       "        var image = mpl.toolbar_items[toolbar_ind][2];\n",
       "        var method_name = mpl.toolbar_items[toolbar_ind][3];\n",
       "\n",
       "        if (!name) {\n",
       "            // put a spacer in here.\n",
       "            continue;\n",
       "        }\n",
       "        var button = $('<button/>');\n",
       "        button.addClass('ui-button ui-widget ui-state-default ui-corner-all ' +\n",
       "                        'ui-button-icon-only');\n",
       "        button.attr('role', 'button');\n",
       "        button.attr('aria-disabled', 'false');\n",
       "        button.click(method_name, toolbar_event);\n",
       "        button.mouseover(tooltip, toolbar_mouse_event);\n",
       "\n",
       "        var icon_img = $('<span/>');\n",
       "        icon_img.addClass('ui-button-icon-primary ui-icon');\n",
       "        icon_img.addClass(image);\n",
       "        icon_img.addClass('ui-corner-all');\n",
       "\n",
       "        var tooltip_span = $('<span/>');\n",
       "        tooltip_span.addClass('ui-button-text');\n",
       "        tooltip_span.html(tooltip);\n",
       "\n",
       "        button.append(icon_img);\n",
       "        button.append(tooltip_span);\n",
       "\n",
       "        nav_element.append(button);\n",
       "    }\n",
       "\n",
       "    var fmt_picker_span = $('<span/>');\n",
       "\n",
       "    var fmt_picker = $('<select/>');\n",
       "    fmt_picker.addClass('mpl-toolbar-option ui-widget ui-widget-content');\n",
       "    fmt_picker_span.append(fmt_picker);\n",
       "    nav_element.append(fmt_picker_span);\n",
       "    this.format_dropdown = fmt_picker[0];\n",
       "\n",
       "    for (var ind in mpl.extensions) {\n",
       "        var fmt = mpl.extensions[ind];\n",
       "        var option = $(\n",
       "            '<option/>', {selected: fmt === mpl.default_extension}).html(fmt);\n",
       "        fmt_picker.append(option)\n",
       "    }\n",
       "\n",
       "    // Add hover states to the ui-buttons\n",
       "    $( \".ui-button\" ).hover(\n",
       "        function() { $(this).addClass(\"ui-state-hover\");},\n",
       "        function() { $(this).removeClass(\"ui-state-hover\");}\n",
       "    );\n",
       "\n",
       "    var status_bar = $('<span class=\"mpl-message\"/>');\n",
       "    nav_element.append(status_bar);\n",
       "    this.message = status_bar[0];\n",
       "}\n",
       "\n",
       "mpl.figure.prototype.request_resize = function(x_pixels, y_pixels) {\n",
       "    // Request matplotlib to resize the figure. Matplotlib will then trigger a resize in the client,\n",
       "    // which will in turn request a refresh of the image.\n",
       "    this.send_message('resize', {'width': x_pixels, 'height': y_pixels});\n",
       "}\n",
       "\n",
       "mpl.figure.prototype.send_message = function(type, properties) {\n",
       "    properties['type'] = type;\n",
       "    properties['figure_id'] = this.id;\n",
       "    this.ws.send(JSON.stringify(properties));\n",
       "}\n",
       "\n",
       "mpl.figure.prototype.send_draw_message = function() {\n",
       "    if (!this.waiting) {\n",
       "        this.waiting = true;\n",
       "        this.ws.send(JSON.stringify({type: \"draw\", figure_id: this.id}));\n",
       "    }\n",
       "}\n",
       "\n",
       "\n",
       "mpl.figure.prototype.handle_save = function(fig, msg) {\n",
       "    var format_dropdown = fig.format_dropdown;\n",
       "    var format = format_dropdown.options[format_dropdown.selectedIndex].value;\n",
       "    fig.ondownload(fig, format);\n",
       "}\n",
       "\n",
       "\n",
       "mpl.figure.prototype.handle_resize = function(fig, msg) {\n",
       "    var size = msg['size'];\n",
       "    if (size[0] != fig.canvas.width || size[1] != fig.canvas.height) {\n",
       "        fig._resize_canvas(size[0], size[1]);\n",
       "        fig.send_message(\"refresh\", {});\n",
       "    };\n",
       "}\n",
       "\n",
       "mpl.figure.prototype.handle_rubberband = function(fig, msg) {\n",
       "    var x0 = msg['x0'] / mpl.ratio;\n",
       "    var y0 = (fig.canvas.height - msg['y0']) / mpl.ratio;\n",
       "    var x1 = msg['x1'] / mpl.ratio;\n",
       "    var y1 = (fig.canvas.height - msg['y1']) / mpl.ratio;\n",
       "    x0 = Math.floor(x0) + 0.5;\n",
       "    y0 = Math.floor(y0) + 0.5;\n",
       "    x1 = Math.floor(x1) + 0.5;\n",
       "    y1 = Math.floor(y1) + 0.5;\n",
       "    var min_x = Math.min(x0, x1);\n",
       "    var min_y = Math.min(y0, y1);\n",
       "    var width = Math.abs(x1 - x0);\n",
       "    var height = Math.abs(y1 - y0);\n",
       "\n",
       "    fig.rubberband_context.clearRect(\n",
       "        0, 0, fig.canvas.width, fig.canvas.height);\n",
       "\n",
       "    fig.rubberband_context.strokeRect(min_x, min_y, width, height);\n",
       "}\n",
       "\n",
       "mpl.figure.prototype.handle_figure_label = function(fig, msg) {\n",
       "    // Updates the figure title.\n",
       "    fig.header.textContent = msg['label'];\n",
       "}\n",
       "\n",
       "mpl.figure.prototype.handle_cursor = function(fig, msg) {\n",
       "    var cursor = msg['cursor'];\n",
       "    switch(cursor)\n",
       "    {\n",
       "    case 0:\n",
       "        cursor = 'pointer';\n",
       "        break;\n",
       "    case 1:\n",
       "        cursor = 'default';\n",
       "        break;\n",
       "    case 2:\n",
       "        cursor = 'crosshair';\n",
       "        break;\n",
       "    case 3:\n",
       "        cursor = 'move';\n",
       "        break;\n",
       "    }\n",
       "    fig.rubberband_canvas.style.cursor = cursor;\n",
       "}\n",
       "\n",
       "mpl.figure.prototype.handle_message = function(fig, msg) {\n",
       "    fig.message.textContent = msg['message'];\n",
       "}\n",
       "\n",
       "mpl.figure.prototype.handle_draw = function(fig, msg) {\n",
       "    // Request the server to send over a new figure.\n",
       "    fig.send_draw_message();\n",
       "}\n",
       "\n",
       "mpl.figure.prototype.handle_image_mode = function(fig, msg) {\n",
       "    fig.image_mode = msg['mode'];\n",
       "}\n",
       "\n",
       "mpl.figure.prototype.updated_canvas_event = function() {\n",
       "    // Called whenever the canvas gets updated.\n",
       "    this.send_message(\"ack\", {});\n",
       "}\n",
       "\n",
       "// A function to construct a web socket function for onmessage handling.\n",
       "// Called in the figure constructor.\n",
       "mpl.figure.prototype._make_on_message_function = function(fig) {\n",
       "    return function socket_on_message(evt) {\n",
       "        if (evt.data instanceof Blob) {\n",
       "            /* FIXME: We get \"Resource interpreted as Image but\n",
       "             * transferred with MIME type text/plain:\" errors on\n",
       "             * Chrome.  But how to set the MIME type?  It doesn't seem\n",
       "             * to be part of the websocket stream */\n",
       "            evt.data.type = \"image/png\";\n",
       "\n",
       "            /* Free the memory for the previous frames */\n",
       "            if (fig.imageObj.src) {\n",
       "                (window.URL || window.webkitURL).revokeObjectURL(\n",
       "                    fig.imageObj.src);\n",
       "            }\n",
       "\n",
       "            fig.imageObj.src = (window.URL || window.webkitURL).createObjectURL(\n",
       "                evt.data);\n",
       "            fig.updated_canvas_event();\n",
       "            fig.waiting = false;\n",
       "            return;\n",
       "        }\n",
       "        else if (typeof evt.data === 'string' && evt.data.slice(0, 21) == \"data:image/png;base64\") {\n",
       "            fig.imageObj.src = evt.data;\n",
       "            fig.updated_canvas_event();\n",
       "            fig.waiting = false;\n",
       "            return;\n",
       "        }\n",
       "\n",
       "        var msg = JSON.parse(evt.data);\n",
       "        var msg_type = msg['type'];\n",
       "\n",
       "        // Call the  \"handle_{type}\" callback, which takes\n",
       "        // the figure and JSON message as its only arguments.\n",
       "        try {\n",
       "            var callback = fig[\"handle_\" + msg_type];\n",
       "        } catch (e) {\n",
       "            console.log(\"No handler for the '\" + msg_type + \"' message type: \", msg);\n",
       "            return;\n",
       "        }\n",
       "\n",
       "        if (callback) {\n",
       "            try {\n",
       "                // console.log(\"Handling '\" + msg_type + \"' message: \", msg);\n",
       "                callback(fig, msg);\n",
       "            } catch (e) {\n",
       "                console.log(\"Exception inside the 'handler_\" + msg_type + \"' callback:\", e, e.stack, msg);\n",
       "            }\n",
       "        }\n",
       "    };\n",
       "}\n",
       "\n",
       "// from http://stackoverflow.com/questions/1114465/getting-mouse-location-in-canvas\n",
       "mpl.findpos = function(e) {\n",
       "    //this section is from http://www.quirksmode.org/js/events_properties.html\n",
       "    var targ;\n",
       "    if (!e)\n",
       "        e = window.event;\n",
       "    if (e.target)\n",
       "        targ = e.target;\n",
       "    else if (e.srcElement)\n",
       "        targ = e.srcElement;\n",
       "    if (targ.nodeType == 3) // defeat Safari bug\n",
       "        targ = targ.parentNode;\n",
       "\n",
       "    // jQuery normalizes the pageX and pageY\n",
       "    // pageX,Y are the mouse positions relative to the document\n",
       "    // offset() returns the position of the element relative to the document\n",
       "    var x = e.pageX - $(targ).offset().left;\n",
       "    var y = e.pageY - $(targ).offset().top;\n",
       "\n",
       "    return {\"x\": x, \"y\": y};\n",
       "};\n",
       "\n",
       "/*\n",
       " * return a copy of an object with only non-object keys\n",
       " * we need this to avoid circular references\n",
       " * http://stackoverflow.com/a/24161582/3208463\n",
       " */\n",
       "function simpleKeys (original) {\n",
       "  return Object.keys(original).reduce(function (obj, key) {\n",
       "    if (typeof original[key] !== 'object')\n",
       "        obj[key] = original[key]\n",
       "    return obj;\n",
       "  }, {});\n",
       "}\n",
       "\n",
       "mpl.figure.prototype.mouse_event = function(event, name) {\n",
       "    var canvas_pos = mpl.findpos(event)\n",
       "\n",
       "    if (name === 'button_press')\n",
       "    {\n",
       "        this.canvas.focus();\n",
       "        this.canvas_div.focus();\n",
       "    }\n",
       "\n",
       "    var x = canvas_pos.x * mpl.ratio;\n",
       "    var y = canvas_pos.y * mpl.ratio;\n",
       "\n",
       "    this.send_message(name, {x: x, y: y, button: event.button,\n",
       "                             step: event.step,\n",
       "                             guiEvent: simpleKeys(event)});\n",
       "\n",
       "    /* This prevents the web browser from automatically changing to\n",
       "     * the text insertion cursor when the button is pressed.  We want\n",
       "     * to control all of the cursor setting manually through the\n",
       "     * 'cursor' event from matplotlib */\n",
       "    event.preventDefault();\n",
       "    return false;\n",
       "}\n",
       "\n",
       "mpl.figure.prototype._key_event_extra = function(event, name) {\n",
       "    // Handle any extra behaviour associated with a key event\n",
       "}\n",
       "\n",
       "mpl.figure.prototype.key_event = function(event, name) {\n",
       "\n",
       "    // Prevent repeat events\n",
       "    if (name == 'key_press')\n",
       "    {\n",
       "        if (event.which === this._key)\n",
       "            return;\n",
       "        else\n",
       "            this._key = event.which;\n",
       "    }\n",
       "    if (name == 'key_release')\n",
       "        this._key = null;\n",
       "\n",
       "    var value = '';\n",
       "    if (event.ctrlKey && event.which != 17)\n",
       "        value += \"ctrl+\";\n",
       "    if (event.altKey && event.which != 18)\n",
       "        value += \"alt+\";\n",
       "    if (event.shiftKey && event.which != 16)\n",
       "        value += \"shift+\";\n",
       "\n",
       "    value += 'k';\n",
       "    value += event.which.toString();\n",
       "\n",
       "    this._key_event_extra(event, name);\n",
       "\n",
       "    this.send_message(name, {key: value,\n",
       "                             guiEvent: simpleKeys(event)});\n",
       "    return false;\n",
       "}\n",
       "\n",
       "mpl.figure.prototype.toolbar_button_onclick = function(name) {\n",
       "    if (name == 'download') {\n",
       "        this.handle_save(this, null);\n",
       "    } else {\n",
       "        this.send_message(\"toolbar_button\", {name: name});\n",
       "    }\n",
       "};\n",
       "\n",
       "mpl.figure.prototype.toolbar_button_onmouseover = function(tooltip) {\n",
       "    this.message.textContent = tooltip;\n",
       "};\n",
       "mpl.toolbar_items = [[\"Home\", \"Reset original view\", \"fa fa-home icon-home\", \"home\"], [\"Back\", \"Back to previous view\", \"fa fa-arrow-left icon-arrow-left\", \"back\"], [\"Forward\", \"Forward to next view\", \"fa fa-arrow-right icon-arrow-right\", \"forward\"], [\"\", \"\", \"\", \"\"], [\"Pan\", \"Pan axes with left mouse, zoom with right\", \"fa fa-arrows icon-move\", \"pan\"], [\"Zoom\", \"Zoom to rectangle\", \"fa fa-square-o icon-check-empty\", \"zoom\"], [\"\", \"\", \"\", \"\"], [\"Download\", \"Download plot\", \"fa fa-floppy-o icon-save\", \"download\"]];\n",
       "\n",
       "mpl.extensions = [\"eps\", \"jpeg\", \"pdf\", \"png\", \"ps\", \"raw\", \"svg\", \"tif\"];\n",
       "\n",
       "mpl.default_extension = \"png\";var comm_websocket_adapter = function(comm) {\n",
       "    // Create a \"websocket\"-like object which calls the given IPython comm\n",
       "    // object with the appropriate methods. Currently this is a non binary\n",
       "    // socket, so there is still some room for performance tuning.\n",
       "    var ws = {};\n",
       "\n",
       "    ws.close = function() {\n",
       "        comm.close()\n",
       "    };\n",
       "    ws.send = function(m) {\n",
       "        //console.log('sending', m);\n",
       "        comm.send(m);\n",
       "    };\n",
       "    // Register the callback with on_msg.\n",
       "    comm.on_msg(function(msg) {\n",
       "        //console.log('receiving', msg['content']['data'], msg);\n",
       "        // Pass the mpl event to the overridden (by mpl) onmessage function.\n",
       "        ws.onmessage(msg['content']['data'])\n",
       "    });\n",
       "    return ws;\n",
       "}\n",
       "\n",
       "mpl.mpl_figure_comm = function(comm, msg) {\n",
       "    // This is the function which gets called when the mpl process\n",
       "    // starts-up an IPython Comm through the \"matplotlib\" channel.\n",
       "\n",
       "    var id = msg.content.data.id;\n",
       "    // Get hold of the div created by the display call when the Comm\n",
       "    // socket was opened in Python.\n",
       "    var element = $(\"#\" + id);\n",
       "    var ws_proxy = comm_websocket_adapter(comm)\n",
       "\n",
       "    function ondownload(figure, format) {\n",
       "        window.open(figure.imageObj.src);\n",
       "    }\n",
       "\n",
       "    var fig = new mpl.figure(id, ws_proxy,\n",
       "                           ondownload,\n",
       "                           element.get(0));\n",
       "\n",
       "    // Call onopen now - mpl needs it, as it is assuming we've passed it a real\n",
       "    // web socket which is closed, not our websocket->open comm proxy.\n",
       "    ws_proxy.onopen();\n",
       "\n",
       "    fig.parent_element = element.get(0);\n",
       "    fig.cell_info = mpl.find_output_cell(\"<div id='\" + id + \"'></div>\");\n",
       "    if (!fig.cell_info) {\n",
       "        console.error(\"Failed to find cell for figure\", id, fig);\n",
       "        return;\n",
       "    }\n",
       "\n",
       "    var output_index = fig.cell_info[2]\n",
       "    var cell = fig.cell_info[0];\n",
       "\n",
       "};\n",
       "\n",
       "mpl.figure.prototype.handle_close = function(fig, msg) {\n",
       "    var width = fig.canvas.width/mpl.ratio\n",
       "    fig.root.unbind('remove')\n",
       "\n",
       "    // Update the output cell to use the data from the current canvas.\n",
       "    fig.push_to_output();\n",
       "    var dataURL = fig.canvas.toDataURL();\n",
       "    // Re-enable the keyboard manager in IPython - without this line, in FF,\n",
       "    // the notebook keyboard shortcuts fail.\n",
       "    IPython.keyboard_manager.enable()\n",
       "    $(fig.parent_element).html('<img src=\"' + dataURL + '\" width=\"' + width + '\">');\n",
       "    fig.close_ws(fig, msg);\n",
       "}\n",
       "\n",
       "mpl.figure.prototype.close_ws = function(fig, msg){\n",
       "    fig.send_message('closing', msg);\n",
       "    // fig.ws.close()\n",
       "}\n",
       "\n",
       "mpl.figure.prototype.push_to_output = function(remove_interactive) {\n",
       "    // Turn the data on the canvas into data in the output cell.\n",
       "    var width = this.canvas.width/mpl.ratio\n",
       "    var dataURL = this.canvas.toDataURL();\n",
       "    this.cell_info[1]['text/html'] = '<img src=\"' + dataURL + '\" width=\"' + width + '\">';\n",
       "}\n",
       "\n",
       "mpl.figure.prototype.updated_canvas_event = function() {\n",
       "    // Tell IPython that the notebook contents must change.\n",
       "    IPython.notebook.set_dirty(true);\n",
       "    this.send_message(\"ack\", {});\n",
       "    var fig = this;\n",
       "    // Wait a second, then push the new image to the DOM so\n",
       "    // that it is saved nicely (might be nice to debounce this).\n",
       "    setTimeout(function () { fig.push_to_output() }, 1000);\n",
       "}\n",
       "\n",
       "mpl.figure.prototype._init_toolbar = function() {\n",
       "    var fig = this;\n",
       "\n",
       "    var nav_element = $('<div/>')\n",
       "    nav_element.attr('style', 'width: 100%');\n",
       "    this.root.append(nav_element);\n",
       "\n",
       "    // Define a callback function for later on.\n",
       "    function toolbar_event(event) {\n",
       "        return fig.toolbar_button_onclick(event['data']);\n",
       "    }\n",
       "    function toolbar_mouse_event(event) {\n",
       "        return fig.toolbar_button_onmouseover(event['data']);\n",
       "    }\n",
       "\n",
       "    for(var toolbar_ind in mpl.toolbar_items){\n",
       "        var name = mpl.toolbar_items[toolbar_ind][0];\n",
       "        var tooltip = mpl.toolbar_items[toolbar_ind][1];\n",
       "        var image = mpl.toolbar_items[toolbar_ind][2];\n",
       "        var method_name = mpl.toolbar_items[toolbar_ind][3];\n",
       "\n",
       "        if (!name) { continue; };\n",
       "\n",
       "        var button = $('<button class=\"btn btn-default\" href=\"#\" title=\"' + name + '\"><i class=\"fa ' + image + ' fa-lg\"></i></button>');\n",
       "        button.click(method_name, toolbar_event);\n",
       "        button.mouseover(tooltip, toolbar_mouse_event);\n",
       "        nav_element.append(button);\n",
       "    }\n",
       "\n",
       "    // Add the status bar.\n",
       "    var status_bar = $('<span class=\"mpl-message\" style=\"text-align:right; float: right;\"/>');\n",
       "    nav_element.append(status_bar);\n",
       "    this.message = status_bar[0];\n",
       "\n",
       "    // Add the close button to the window.\n",
       "    var buttongrp = $('<div class=\"btn-group inline pull-right\"></div>');\n",
       "    var button = $('<button class=\"btn btn-mini btn-primary\" href=\"#\" title=\"Stop Interaction\"><i class=\"fa fa-power-off icon-remove icon-large\"></i></button>');\n",
       "    button.click(function (evt) { fig.handle_close(fig, {}); } );\n",
       "    button.mouseover('Stop Interaction', toolbar_mouse_event);\n",
       "    buttongrp.append(button);\n",
       "    var titlebar = this.root.find($('.ui-dialog-titlebar'));\n",
       "    titlebar.prepend(buttongrp);\n",
       "}\n",
       "\n",
       "mpl.figure.prototype._root_extra_style = function(el){\n",
       "    var fig = this\n",
       "    el.on(\"remove\", function(){\n",
       "\tfig.close_ws(fig, {});\n",
       "    });\n",
       "}\n",
       "\n",
       "mpl.figure.prototype._canvas_extra_style = function(el){\n",
       "    // this is important to make the div 'focusable\n",
       "    el.attr('tabindex', 0)\n",
       "    // reach out to IPython and tell the keyboard manager to turn it's self\n",
       "    // off when our div gets focus\n",
       "\n",
       "    // location in version 3\n",
       "    if (IPython.notebook.keyboard_manager) {\n",
       "        IPython.notebook.keyboard_manager.register_events(el);\n",
       "    }\n",
       "    else {\n",
       "        // location in version 2\n",
       "        IPython.keyboard_manager.register_events(el);\n",
       "    }\n",
       "\n",
       "}\n",
       "\n",
       "mpl.figure.prototype._key_event_extra = function(event, name) {\n",
       "    var manager = IPython.notebook.keyboard_manager;\n",
       "    if (!manager)\n",
       "        manager = IPython.keyboard_manager;\n",
       "\n",
       "    // Check for shift+enter\n",
       "    if (event.shiftKey && event.which == 13) {\n",
       "        this.canvas_div.blur();\n",
       "        event.shiftKey = false;\n",
       "        // Send a \"J\" for go to next cell\n",
       "        event.which = 74;\n",
       "        event.keyCode = 74;\n",
       "        manager.command_mode();\n",
       "        manager.handle_keydown(event);\n",
       "    }\n",
       "}\n",
       "\n",
       "mpl.figure.prototype.handle_save = function(fig, msg) {\n",
       "    fig.ondownload(fig, null);\n",
       "}\n",
       "\n",
       "\n",
       "mpl.find_output_cell = function(html_output) {\n",
       "    // Return the cell and output element which can be found *uniquely* in the notebook.\n",
       "    // Note - this is a bit hacky, but it is done because the \"notebook_saving.Notebook\"\n",
       "    // IPython event is triggered only after the cells have been serialised, which for\n",
       "    // our purposes (turning an active figure into a static one), is too late.\n",
       "    var cells = IPython.notebook.get_cells();\n",
       "    var ncells = cells.length;\n",
       "    for (var i=0; i<ncells; i++) {\n",
       "        var cell = cells[i];\n",
       "        if (cell.cell_type === 'code'){\n",
       "            for (var j=0; j<cell.output_area.outputs.length; j++) {\n",
       "                var data = cell.output_area.outputs[j];\n",
       "                if (data.data) {\n",
       "                    // IPython >= 3 moved mimebundle to data attribute of output\n",
       "                    data = data.data;\n",
       "                }\n",
       "                if (data['text/html'] == html_output) {\n",
       "                    return [cell, data, j];\n",
       "                }\n",
       "            }\n",
       "        }\n",
       "    }\n",
       "}\n",
       "\n",
       "// Register the function which deals with the matplotlib target/channel.\n",
       "// The kernel may be null if the page has been refreshed.\n",
       "if (IPython.notebook.kernel != null) {\n",
       "    IPython.notebook.kernel.comm_manager.register_target('matplotlib', mpl.mpl_figure_comm);\n",
       "}\n"
      ],
      "text/plain": [
       "<IPython.core.display.Javascript object>"
      ]
     },
     "metadata": {},
     "output_type": "display_data"
    },
    {
     "data": {
      "text/html": [
       "<img src=\"data:image/png;base64,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\" width=\"640\">"
      ],
      "text/plain": [
       "<IPython.core.display.HTML object>"
      ]
     },
     "metadata": {},
     "output_type": "display_data"
    }
   ],
   "source": [
    "for i in tqdm(range(30)):\n",
    "    print(dm.matrix_a.mean())\n",
    "    print(dm.matrix_b.mean())\n",
    "    dm._next()\n",
    "\n",
    "\n",
    "print(dm.matrix_a.mean())\n",
    "print(dm.matrix_b.mean())\n",
    "plot_matrixes(dm)"
   ]
  },
  {
   "cell_type": "code",
   "execution_count": 20,
   "metadata": {},
   "outputs": [],
   "source": [
    "plt.imshow(dm.matrix_a, cmap='binary', interpolation='nearest',vmin=0, vmax=1)\n",
    "plt.show()"
   ]
  },
  {
   "cell_type": "code",
   "execution_count": null,
   "metadata": {},
   "outputs": [],
   "source": []
  },
  {
   "cell_type": "code",
   "execution_count": 36,
   "metadata": {},
   "outputs": [],
   "source": [
    "A = range(16)"
   ]
  },
  {
   "cell_type": "code",
   "execution_count": 40,
   "metadata": {},
   "outputs": [],
   "source": [
    "A = np.reshape(range(16),(4,4))"
   ]
  },
  {
   "cell_type": "code",
   "execution_count": 41,
   "metadata": {},
   "outputs": [
    {
     "data": {
      "text/plain": [
       "array([[ 0,  1,  2,  3],\n",
       "       [ 4,  5,  6,  7],\n",
       "       [ 8,  9, 10, 11],\n",
       "       [12, 13, 14, 15]])"
      ]
     },
     "execution_count": 41,
     "metadata": {},
     "output_type": "execute_result"
    }
   ],
   "source": [
    "A"
   ]
  },
  {
   "cell_type": "code",
   "execution_count": 41,
   "metadata": {},
   "outputs": [
    {
     "data": {
      "text/plain": [
       "array([[ 5,  6],\n",
       "       [ 9, 10]])"
      ]
     },
     "execution_count": 41,
     "metadata": {},
     "output_type": "execute_result"
    }
   ],
   "source": [
    "A[1:3,1:3]"
   ]
  }
 ],
 "metadata": {
  "kernelspec": {
   "display_name": "Python 3",
   "language": "python",
   "name": "python3"
  },
  "language_info": {
   "codemirror_mode": {
    "name": "ipython",
    "version": 3
   },
   "file_extension": ".py",
   "mimetype": "text/x-python",
   "name": "python",
   "nbconvert_exporter": "python",
   "pygments_lexer": "ipython3",
   "version": "3.7.3"
  }
 },
 "nbformat": 4,
 "nbformat_minor": 2
}
