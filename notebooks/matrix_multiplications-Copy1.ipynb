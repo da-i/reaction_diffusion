{
 "cells": [
  {
   "cell_type": "code",
   "execution_count": 1,
   "metadata": {},
   "outputs": [],
   "source": [
    "import numpy as np\n",
    "import scipy.ndimage as ndimage\n",
    "import matplotlib.pyplot as plt\n",
    "from tqdm import tqdm"
   ]
  },
  {
   "cell_type": "code",
   "execution_count": 2,
   "metadata": {},
   "outputs": [],
   "source": [
    "%matplotlib notebook"
   ]
  },
  {
   "cell_type": "code",
   "execution_count": 32,
   "metadata": {},
   "outputs": [],
   "source": [
    "class DiffMatrix():\n",
    "    \n",
    "    def __init__(self,\n",
    "                size= 300,\n",
    "                diffusion_characteristics = 'default',\n",
    "                start_template = 'square'):\n",
    "#       Reaction caracteristics\n",
    "        if diffusion_characteristics == 'default':\n",
    "            self.diff_a = 1\n",
    "            self.diff_b = 0.5\n",
    "            self.feed_rate = 0.055\n",
    "            self.kill_rate = 0.062\n",
    "            self.timestep = 1\n",
    "            self.laplace_window = 3\n",
    "        \n",
    "        self.start_template = start_template\n",
    "        self.size = size\n",
    "        self.matrix_shape = (int(self.size), int(self.size))\n",
    "        self.matrix_a = self.initiate_matrix()\n",
    "        self.matrix_b = self.initiate_matrix()\n",
    "        self.matrix_a_new = self.initiate_matrix()\n",
    "        self.matrix_b_new = self.initiate_matrix()\n",
    "    \n",
    "    def initiate_matrix(self):\n",
    "        matrix = np.zeros(self.matrix_shape)\n",
    "        return matrix\n",
    "    \n",
    "    def fill_matrix_tiny(self):\n",
    "        for matrix in (self.matrix_a, self.matrix_b):\n",
    "            matrix[1][2] = 0.3\n",
    "            matrix[1][3] = 0.3\n",
    "            matrix[2][2] = 0.3\n",
    "\n",
    "    def fill_matrix_random(self):\n",
    "        self.matrix_a = np.random.rand(*self.matrix_shape)\n",
    "        self.matrix_b = np.random.rand(*self.matrix_shape)\n",
    "        \n",
    "    def fill_matrix_propper(self):\n",
    "        self.matrix_a = np.ones(self.matrix_shape)\n",
    "        self.matrix_b = np.zeros(self.matrix_shape)\n",
    "        \n",
    "        if self.start_template == 'line':\n",
    "            start_b = int(0.4 * self.size)\n",
    "            end_b = int(0.6 * self.size)\n",
    "            self.matrix_b[start_b:end_b] = 1\n",
    "        \n",
    "        elif self.start_template == 'square':\n",
    "            start_b = int(0.45 * self.size)\n",
    "            end_b = int(0.55 * self.size)\n",
    "            self.matrix_b[start_b:end_b, start_b:end_b] = 1\n",
    "    \n",
    "    def switch_new(self):\n",
    "        self.matrix_a = self.matrix_a_new.copy()\n",
    "        self.matrix_b = self.matrix_b_new.copy()\n",
    "    \n",
    "    def feed(self):\n",
    "        # create a up until 1\n",
    "        self.matrix_a_new += self.feed_rate * (1 - self.matrix_a)\n",
    "        #bestroy b if any\n",
    "        self.matrix_b_new -= (self.feed_rate + self.kill_rate) * self.matrix_b\n",
    "    \n",
    "    def react(self):\n",
    "        #consume a and turn it into b\n",
    "        reaction_rate = self.matrix_a * self.matrix_b * self.matrix_b\n",
    "        \n",
    "        self.matrix_a_new -= reaction_rate\n",
    "        self.matrix_b_new += reaction_rate    \n",
    "        \n",
    "    def diffuse(self):\n",
    "        self.matrix_a_new = ndimage.generic_filter(dm.matrix_a, self.quickest_lap_filter, size=(3,3))\n",
    "        self.matrix_b_new = ndimage.generic_filter(dm.matrix_b, self.quickest_lap_filter, size=(3,3))\n",
    "    \n",
    "    def lap_filter(self,x):\n",
    "        x = x.reshape((self.laplace_window,self.laplace_window))\n",
    "        filter_total = x[1][1] * -1\n",
    "        # cross:\n",
    "        filter_total += x[1][0] * 0.2\n",
    "        filter_total += x[0][1] * 0.2\n",
    "        filter_total += x[1][2] * 0.2\n",
    "        filter_total += x[2][1] * 0.2\n",
    "\n",
    "        #diag\n",
    "        filter_total += x[0][0] * 0.05\n",
    "        filter_total += x[2][0] * 0.05\n",
    "        filter_total += x[0][2] * 0.05\n",
    "        filter_total += x[2][2] * 0.05\n",
    "        return filter_total\n",
    "\n",
    "    @staticmethod\n",
    "    def quick_lap_filter(x):\n",
    "        diag = 0.05\n",
    "        cross = 0.2\n",
    "        middle = -1\n",
    "        score_arr = np.array([diag,cross,diag,\n",
    "                    cross,middle,cross,\n",
    "                    diag,cross,diag])\n",
    "\n",
    "        return sum(x * score_arr)\n",
    "    \n",
    "    @staticmethod\n",
    "    def quickest_lap_filter(x):\n",
    "        diag = 0.05\n",
    "        cross = 0.2\n",
    "        middle = -1\n",
    "\n",
    "        score = x[4] * middle\n",
    "        score += (x[1] + x[3] + x[5] + x[7]) * cross \n",
    "        score += (x[0] + x[2] + x[6] + x[8]) * diag\n",
    "        return score\n",
    "        \n",
    "    @staticmethod\n",
    "    def lap_filter_roll(x):\n",
    "\n",
    "        rolled_x = np.roll(matrix,x,axis=0)\n",
    "        for y in y_coord:\n",
    "            multi = self.find_multiplier(x,y)\n",
    "            rolled_y = np.roll(rolled_x,y,axis=1)\n",
    "            matrix_new += (multi * rolled_y)\n",
    "    \n",
    "    def _next(self):\n",
    "        print(f\"{self.matrix_a_new}\")\n",
    "        print(f\"{self.matrix_b_new}\")\n",
    "        self.diffuse()\n",
    "        print('diff')\n",
    "        print(f\"{self.matrix_a_new}\")\n",
    "        print(f\"{self.matrix_b_new}\")\n",
    "\n",
    "#         print(f\"{self.matrix_a_new.mean()}, {self.matrix_a_new.max()}\")\n",
    "#         print(f\"{self.matrix_b_new.mean()}, {self.matrix_b_new.max()}\")\n",
    "        self.feed()\n",
    "        print('feed')\n",
    "        print(f\"{self.matrix_a_new}\")\n",
    "        print(f\"{self.matrix_b_new}\")\n",
    "#         print(f\"{self.matrix_a_new.mean()}, {self.matrix_a_new.max()}\")\n",
    "#         print(f\"{self.matrix_b_new.mean()}, {self.matrix_b_new.max()}\")\n",
    "        self.react()\n",
    "        print('react')\n",
    "        print(f\"{self.matrix_a_new}\")\n",
    "        print(f\"{self.matrix_b_new}\")\n",
    "#         print(f\"{self.matrix_a_new.mean()}, {self.matrix_a_new.max()}\")\n",
    "#         print(f\"{self.matrix_b_new.mean()}, {self.matrix_b_new.max()}\")\n",
    "        \n",
    "        \n",
    "        self.matrix_a_new += self.matrix_a\n",
    "        self.matrix_b_new += self.matrix_b\n",
    "           \n",
    "        self.switch_new()\n",
    "\n",
    "#         self.matrix_a_new = self.initiate_matrix()\n",
    "#         self.matrix_b_new = self.initiate_matrix()\n",
    "#         print(f\"{self.matrix_a_new.mean()}, {self.matrix_a_new.max()}\")\n",
    "#         print(f\"{self.matrix_b_new.mean()}, {self.matrix_b_new.max()}\")\n"
   ]
  },
  {
   "cell_type": "code",
   "execution_count": 4,
   "metadata": {},
   "outputs": [],
   "source": [
    "def plthm(dm,i):\n",
    "    axes[0].imshow(dm.matrix_a, cmap='binary', interpolation='nearest',vmin=0, vmax=1)\n",
    "    axes[0].set_title(f'Activator at {i}')\n",
    "    axes[1].set_title(f'Blocker at {i}')\n",
    "    axes[1].imshow(dm.matrix_b, cmap='binary', interpolation='nearest',vmin=0, vmax=1)\n",
    "    plt.show()\n",
    "    fig.canvas.draw()"
   ]
  },
  {
   "cell_type": "code",
   "execution_count": 5,
   "metadata": {},
   "outputs": [],
   "source": [
    "dm = DiffMatrix(100,start_template='square')\n",
    "dm.fill_matrix_propper()"
   ]
  },
  {
   "cell_type": "code",
   "execution_count": 6,
   "metadata": {},
   "outputs": [
    {
     "ename": "NameError",
     "evalue": "name 'axes' is not defined",
     "output_type": "error",
     "traceback": [
      "\u001b[0;31m---------------------------------------------------------------------------\u001b[0m",
      "\u001b[0;31mNameError\u001b[0m                                 Traceback (most recent call last)",
      "\u001b[0;32m<ipython-input-6-fbd63f296267>\u001b[0m in \u001b[0;36m<module>\u001b[0;34m\u001b[0m\n\u001b[0;32m----> 1\u001b[0;31m \u001b[0mplthm\u001b[0m\u001b[0;34m(\u001b[0m\u001b[0mdm\u001b[0m\u001b[0;34m,\u001b[0m\u001b[0;36m1\u001b[0m\u001b[0;34m)\u001b[0m\u001b[0;34m\u001b[0m\u001b[0;34m\u001b[0m\u001b[0m\n\u001b[0m",
      "\u001b[0;32m<ipython-input-4-c50221d0c776>\u001b[0m in \u001b[0;36mplthm\u001b[0;34m(dm, i)\u001b[0m\n\u001b[1;32m      1\u001b[0m \u001b[0;32mdef\u001b[0m \u001b[0mplthm\u001b[0m\u001b[0;34m(\u001b[0m\u001b[0mdm\u001b[0m\u001b[0;34m,\u001b[0m\u001b[0mi\u001b[0m\u001b[0;34m)\u001b[0m\u001b[0;34m:\u001b[0m\u001b[0;34m\u001b[0m\u001b[0;34m\u001b[0m\u001b[0m\n\u001b[0;32m----> 2\u001b[0;31m     \u001b[0maxes\u001b[0m\u001b[0;34m[\u001b[0m\u001b[0;36m0\u001b[0m\u001b[0;34m]\u001b[0m\u001b[0;34m.\u001b[0m\u001b[0mimshow\u001b[0m\u001b[0;34m(\u001b[0m\u001b[0mdm\u001b[0m\u001b[0;34m.\u001b[0m\u001b[0mmatrix_a\u001b[0m\u001b[0;34m,\u001b[0m \u001b[0mcmap\u001b[0m\u001b[0;34m=\u001b[0m\u001b[0;34m'binary'\u001b[0m\u001b[0;34m,\u001b[0m \u001b[0minterpolation\u001b[0m\u001b[0;34m=\u001b[0m\u001b[0;34m'nearest'\u001b[0m\u001b[0;34m,\u001b[0m\u001b[0mvmin\u001b[0m\u001b[0;34m=\u001b[0m\u001b[0;36m0\u001b[0m\u001b[0;34m,\u001b[0m \u001b[0mvmax\u001b[0m\u001b[0;34m=\u001b[0m\u001b[0;36m1\u001b[0m\u001b[0;34m)\u001b[0m\u001b[0;34m\u001b[0m\u001b[0;34m\u001b[0m\u001b[0m\n\u001b[0m\u001b[1;32m      3\u001b[0m     \u001b[0maxes\u001b[0m\u001b[0;34m[\u001b[0m\u001b[0;36m0\u001b[0m\u001b[0;34m]\u001b[0m\u001b[0;34m.\u001b[0m\u001b[0mset_title\u001b[0m\u001b[0;34m(\u001b[0m\u001b[0;34mf'Activator at {i}'\u001b[0m\u001b[0;34m)\u001b[0m\u001b[0;34m\u001b[0m\u001b[0;34m\u001b[0m\u001b[0m\n\u001b[1;32m      4\u001b[0m     \u001b[0maxes\u001b[0m\u001b[0;34m[\u001b[0m\u001b[0;36m1\u001b[0m\u001b[0;34m]\u001b[0m\u001b[0;34m.\u001b[0m\u001b[0mset_title\u001b[0m\u001b[0;34m(\u001b[0m\u001b[0;34mf'Blocker at {i}'\u001b[0m\u001b[0;34m)\u001b[0m\u001b[0;34m\u001b[0m\u001b[0;34m\u001b[0m\u001b[0m\n\u001b[1;32m      5\u001b[0m     \u001b[0maxes\u001b[0m\u001b[0;34m[\u001b[0m\u001b[0;36m1\u001b[0m\u001b[0;34m]\u001b[0m\u001b[0;34m.\u001b[0m\u001b[0mimshow\u001b[0m\u001b[0;34m(\u001b[0m\u001b[0mdm\u001b[0m\u001b[0;34m.\u001b[0m\u001b[0mmatrix_b\u001b[0m\u001b[0;34m,\u001b[0m \u001b[0mcmap\u001b[0m\u001b[0;34m=\u001b[0m\u001b[0;34m'binary'\u001b[0m\u001b[0;34m,\u001b[0m \u001b[0minterpolation\u001b[0m\u001b[0;34m=\u001b[0m\u001b[0;34m'nearest'\u001b[0m\u001b[0;34m,\u001b[0m\u001b[0mvmin\u001b[0m\u001b[0;34m=\u001b[0m\u001b[0;36m0\u001b[0m\u001b[0;34m,\u001b[0m \u001b[0mvmax\u001b[0m\u001b[0;34m=\u001b[0m\u001b[0;36m1\u001b[0m\u001b[0;34m)\u001b[0m\u001b[0;34m\u001b[0m\u001b[0;34m\u001b[0m\u001b[0m\n",
      "\u001b[0;31mNameError\u001b[0m: name 'axes' is not defined"
     ]
    }
   ],
   "source": [
    "plthm(dm,1)"
   ]
  },
  {
   "cell_type": "code",
   "execution_count": 7,
   "metadata": {},
   "outputs": [
    {
     "data": {
      "application/javascript": [
       "/* Put everything inside the global mpl namespace */\n",
       "window.mpl = {};\n",
       "\n",
       "\n",
       "mpl.get_websocket_type = function() {\n",
       "    if (typeof(WebSocket) !== 'undefined') {\n",
       "        return WebSocket;\n",
       "    } else if (typeof(MozWebSocket) !== 'undefined') {\n",
       "        return MozWebSocket;\n",
       "    } else {\n",
       "        alert('Your browser does not have WebSocket support.' +\n",
       "              'Please try Chrome, Safari or Firefox ≥ 6. ' +\n",
       "              'Firefox 4 and 5 are also supported but you ' +\n",
       "              'have to enable WebSockets in about:config.');\n",
       "    };\n",
       "}\n",
       "\n",
       "mpl.figure = function(figure_id, websocket, ondownload, parent_element) {\n",
       "    this.id = figure_id;\n",
       "\n",
       "    this.ws = websocket;\n",
       "\n",
       "    this.supports_binary = (this.ws.binaryType != undefined);\n",
       "\n",
       "    if (!this.supports_binary) {\n",
       "        var warnings = document.getElementById(\"mpl-warnings\");\n",
       "        if (warnings) {\n",
       "            warnings.style.display = 'block';\n",
       "            warnings.textContent = (\n",
       "                \"This browser does not support binary websocket messages. \" +\n",
       "                    \"Performance may be slow.\");\n",
       "        }\n",
       "    }\n",
       "\n",
       "    this.imageObj = new Image();\n",
       "\n",
       "    this.context = undefined;\n",
       "    this.message = undefined;\n",
       "    this.canvas = undefined;\n",
       "    this.rubberband_canvas = undefined;\n",
       "    this.rubberband_context = undefined;\n",
       "    this.format_dropdown = undefined;\n",
       "\n",
       "    this.image_mode = 'full';\n",
       "\n",
       "    this.root = $('<div/>');\n",
       "    this._root_extra_style(this.root)\n",
       "    this.root.attr('style', 'display: inline-block');\n",
       "\n",
       "    $(parent_element).append(this.root);\n",
       "\n",
       "    this._init_header(this);\n",
       "    this._init_canvas(this);\n",
       "    this._init_toolbar(this);\n",
       "\n",
       "    var fig = this;\n",
       "\n",
       "    this.waiting = false;\n",
       "\n",
       "    this.ws.onopen =  function () {\n",
       "            fig.send_message(\"supports_binary\", {value: fig.supports_binary});\n",
       "            fig.send_message(\"send_image_mode\", {});\n",
       "            if (mpl.ratio != 1) {\n",
       "                fig.send_message(\"set_dpi_ratio\", {'dpi_ratio': mpl.ratio});\n",
       "            }\n",
       "            fig.send_message(\"refresh\", {});\n",
       "        }\n",
       "\n",
       "    this.imageObj.onload = function() {\n",
       "            if (fig.image_mode == 'full') {\n",
       "                // Full images could contain transparency (where diff images\n",
       "                // almost always do), so we need to clear the canvas so that\n",
       "                // there is no ghosting.\n",
       "                fig.context.clearRect(0, 0, fig.canvas.width, fig.canvas.height);\n",
       "            }\n",
       "            fig.context.drawImage(fig.imageObj, 0, 0);\n",
       "        };\n",
       "\n",
       "    this.imageObj.onunload = function() {\n",
       "        fig.ws.close();\n",
       "    }\n",
       "\n",
       "    this.ws.onmessage = this._make_on_message_function(this);\n",
       "\n",
       "    this.ondownload = ondownload;\n",
       "}\n",
       "\n",
       "mpl.figure.prototype._init_header = function() {\n",
       "    var titlebar = $(\n",
       "        '<div class=\"ui-dialog-titlebar ui-widget-header ui-corner-all ' +\n",
       "        'ui-helper-clearfix\"/>');\n",
       "    var titletext = $(\n",
       "        '<div class=\"ui-dialog-title\" style=\"width: 100%; ' +\n",
       "        'text-align: center; padding: 3px;\"/>');\n",
       "    titlebar.append(titletext)\n",
       "    this.root.append(titlebar);\n",
       "    this.header = titletext[0];\n",
       "}\n",
       "\n",
       "\n",
       "\n",
       "mpl.figure.prototype._canvas_extra_style = function(canvas_div) {\n",
       "\n",
       "}\n",
       "\n",
       "\n",
       "mpl.figure.prototype._root_extra_style = function(canvas_div) {\n",
       "\n",
       "}\n",
       "\n",
       "mpl.figure.prototype._init_canvas = function() {\n",
       "    var fig = this;\n",
       "\n",
       "    var canvas_div = $('<div/>');\n",
       "\n",
       "    canvas_div.attr('style', 'position: relative; clear: both; outline: 0');\n",
       "\n",
       "    function canvas_keyboard_event(event) {\n",
       "        return fig.key_event(event, event['data']);\n",
       "    }\n",
       "\n",
       "    canvas_div.keydown('key_press', canvas_keyboard_event);\n",
       "    canvas_div.keyup('key_release', canvas_keyboard_event);\n",
       "    this.canvas_div = canvas_div\n",
       "    this._canvas_extra_style(canvas_div)\n",
       "    this.root.append(canvas_div);\n",
       "\n",
       "    var canvas = $('<canvas/>');\n",
       "    canvas.addClass('mpl-canvas');\n",
       "    canvas.attr('style', \"left: 0; top: 0; z-index: 0; outline: 0\")\n",
       "\n",
       "    this.canvas = canvas[0];\n",
       "    this.context = canvas[0].getContext(\"2d\");\n",
       "\n",
       "    var backingStore = this.context.backingStorePixelRatio ||\n",
       "\tthis.context.webkitBackingStorePixelRatio ||\n",
       "\tthis.context.mozBackingStorePixelRatio ||\n",
       "\tthis.context.msBackingStorePixelRatio ||\n",
       "\tthis.context.oBackingStorePixelRatio ||\n",
       "\tthis.context.backingStorePixelRatio || 1;\n",
       "\n",
       "    mpl.ratio = (window.devicePixelRatio || 1) / backingStore;\n",
       "\n",
       "    var rubberband = $('<canvas/>');\n",
       "    rubberband.attr('style', \"position: absolute; left: 0; top: 0; z-index: 1;\")\n",
       "\n",
       "    var pass_mouse_events = true;\n",
       "\n",
       "    canvas_div.resizable({\n",
       "        start: function(event, ui) {\n",
       "            pass_mouse_events = false;\n",
       "        },\n",
       "        resize: function(event, ui) {\n",
       "            fig.request_resize(ui.size.width, ui.size.height);\n",
       "        },\n",
       "        stop: function(event, ui) {\n",
       "            pass_mouse_events = true;\n",
       "            fig.request_resize(ui.size.width, ui.size.height);\n",
       "        },\n",
       "    });\n",
       "\n",
       "    function mouse_event_fn(event) {\n",
       "        if (pass_mouse_events)\n",
       "            return fig.mouse_event(event, event['data']);\n",
       "    }\n",
       "\n",
       "    rubberband.mousedown('button_press', mouse_event_fn);\n",
       "    rubberband.mouseup('button_release', mouse_event_fn);\n",
       "    // Throttle sequential mouse events to 1 every 20ms.\n",
       "    rubberband.mousemove('motion_notify', mouse_event_fn);\n",
       "\n",
       "    rubberband.mouseenter('figure_enter', mouse_event_fn);\n",
       "    rubberband.mouseleave('figure_leave', mouse_event_fn);\n",
       "\n",
       "    canvas_div.on(\"wheel\", function (event) {\n",
       "        event = event.originalEvent;\n",
       "        event['data'] = 'scroll'\n",
       "        if (event.deltaY < 0) {\n",
       "            event.step = 1;\n",
       "        } else {\n",
       "            event.step = -1;\n",
       "        }\n",
       "        mouse_event_fn(event);\n",
       "    });\n",
       "\n",
       "    canvas_div.append(canvas);\n",
       "    canvas_div.append(rubberband);\n",
       "\n",
       "    this.rubberband = rubberband;\n",
       "    this.rubberband_canvas = rubberband[0];\n",
       "    this.rubberband_context = rubberband[0].getContext(\"2d\");\n",
       "    this.rubberband_context.strokeStyle = \"#000000\";\n",
       "\n",
       "    this._resize_canvas = function(width, height) {\n",
       "        // Keep the size of the canvas, canvas container, and rubber band\n",
       "        // canvas in synch.\n",
       "        canvas_div.css('width', width)\n",
       "        canvas_div.css('height', height)\n",
       "\n",
       "        canvas.attr('width', width * mpl.ratio);\n",
       "        canvas.attr('height', height * mpl.ratio);\n",
       "        canvas.attr('style', 'width: ' + width + 'px; height: ' + height + 'px;');\n",
       "\n",
       "        rubberband.attr('width', width);\n",
       "        rubberband.attr('height', height);\n",
       "    }\n",
       "\n",
       "    // Set the figure to an initial 600x600px, this will subsequently be updated\n",
       "    // upon first draw.\n",
       "    this._resize_canvas(600, 600);\n",
       "\n",
       "    // Disable right mouse context menu.\n",
       "    $(this.rubberband_canvas).bind(\"contextmenu\",function(e){\n",
       "        return false;\n",
       "    });\n",
       "\n",
       "    function set_focus () {\n",
       "        canvas.focus();\n",
       "        canvas_div.focus();\n",
       "    }\n",
       "\n",
       "    window.setTimeout(set_focus, 100);\n",
       "}\n",
       "\n",
       "mpl.figure.prototype._init_toolbar = function() {\n",
       "    var fig = this;\n",
       "\n",
       "    var nav_element = $('<div/>')\n",
       "    nav_element.attr('style', 'width: 100%');\n",
       "    this.root.append(nav_element);\n",
       "\n",
       "    // Define a callback function for later on.\n",
       "    function toolbar_event(event) {\n",
       "        return fig.toolbar_button_onclick(event['data']);\n",
       "    }\n",
       "    function toolbar_mouse_event(event) {\n",
       "        return fig.toolbar_button_onmouseover(event['data']);\n",
       "    }\n",
       "\n",
       "    for(var toolbar_ind in mpl.toolbar_items) {\n",
       "        var name = mpl.toolbar_items[toolbar_ind][0];\n",
       "        var tooltip = mpl.toolbar_items[toolbar_ind][1];\n",
       "        var image = mpl.toolbar_items[toolbar_ind][2];\n",
       "        var method_name = mpl.toolbar_items[toolbar_ind][3];\n",
       "\n",
       "        if (!name) {\n",
       "            // put a spacer in here.\n",
       "            continue;\n",
       "        }\n",
       "        var button = $('<button/>');\n",
       "        button.addClass('ui-button ui-widget ui-state-default ui-corner-all ' +\n",
       "                        'ui-button-icon-only');\n",
       "        button.attr('role', 'button');\n",
       "        button.attr('aria-disabled', 'false');\n",
       "        button.click(method_name, toolbar_event);\n",
       "        button.mouseover(tooltip, toolbar_mouse_event);\n",
       "\n",
       "        var icon_img = $('<span/>');\n",
       "        icon_img.addClass('ui-button-icon-primary ui-icon');\n",
       "        icon_img.addClass(image);\n",
       "        icon_img.addClass('ui-corner-all');\n",
       "\n",
       "        var tooltip_span = $('<span/>');\n",
       "        tooltip_span.addClass('ui-button-text');\n",
       "        tooltip_span.html(tooltip);\n",
       "\n",
       "        button.append(icon_img);\n",
       "        button.append(tooltip_span);\n",
       "\n",
       "        nav_element.append(button);\n",
       "    }\n",
       "\n",
       "    var fmt_picker_span = $('<span/>');\n",
       "\n",
       "    var fmt_picker = $('<select/>');\n",
       "    fmt_picker.addClass('mpl-toolbar-option ui-widget ui-widget-content');\n",
       "    fmt_picker_span.append(fmt_picker);\n",
       "    nav_element.append(fmt_picker_span);\n",
       "    this.format_dropdown = fmt_picker[0];\n",
       "\n",
       "    for (var ind in mpl.extensions) {\n",
       "        var fmt = mpl.extensions[ind];\n",
       "        var option = $(\n",
       "            '<option/>', {selected: fmt === mpl.default_extension}).html(fmt);\n",
       "        fmt_picker.append(option)\n",
       "    }\n",
       "\n",
       "    // Add hover states to the ui-buttons\n",
       "    $( \".ui-button\" ).hover(\n",
       "        function() { $(this).addClass(\"ui-state-hover\");},\n",
       "        function() { $(this).removeClass(\"ui-state-hover\");}\n",
       "    );\n",
       "\n",
       "    var status_bar = $('<span class=\"mpl-message\"/>');\n",
       "    nav_element.append(status_bar);\n",
       "    this.message = status_bar[0];\n",
       "}\n",
       "\n",
       "mpl.figure.prototype.request_resize = function(x_pixels, y_pixels) {\n",
       "    // Request matplotlib to resize the figure. Matplotlib will then trigger a resize in the client,\n",
       "    // which will in turn request a refresh of the image.\n",
       "    this.send_message('resize', {'width': x_pixels, 'height': y_pixels});\n",
       "}\n",
       "\n",
       "mpl.figure.prototype.send_message = function(type, properties) {\n",
       "    properties['type'] = type;\n",
       "    properties['figure_id'] = this.id;\n",
       "    this.ws.send(JSON.stringify(properties));\n",
       "}\n",
       "\n",
       "mpl.figure.prototype.send_draw_message = function() {\n",
       "    if (!this.waiting) {\n",
       "        this.waiting = true;\n",
       "        this.ws.send(JSON.stringify({type: \"draw\", figure_id: this.id}));\n",
       "    }\n",
       "}\n",
       "\n",
       "\n",
       "mpl.figure.prototype.handle_save = function(fig, msg) {\n",
       "    var format_dropdown = fig.format_dropdown;\n",
       "    var format = format_dropdown.options[format_dropdown.selectedIndex].value;\n",
       "    fig.ondownload(fig, format);\n",
       "}\n",
       "\n",
       "\n",
       "mpl.figure.prototype.handle_resize = function(fig, msg) {\n",
       "    var size = msg['size'];\n",
       "    if (size[0] != fig.canvas.width || size[1] != fig.canvas.height) {\n",
       "        fig._resize_canvas(size[0], size[1]);\n",
       "        fig.send_message(\"refresh\", {});\n",
       "    };\n",
       "}\n",
       "\n",
       "mpl.figure.prototype.handle_rubberband = function(fig, msg) {\n",
       "    var x0 = msg['x0'] / mpl.ratio;\n",
       "    var y0 = (fig.canvas.height - msg['y0']) / mpl.ratio;\n",
       "    var x1 = msg['x1'] / mpl.ratio;\n",
       "    var y1 = (fig.canvas.height - msg['y1']) / mpl.ratio;\n",
       "    x0 = Math.floor(x0) + 0.5;\n",
       "    y0 = Math.floor(y0) + 0.5;\n",
       "    x1 = Math.floor(x1) + 0.5;\n",
       "    y1 = Math.floor(y1) + 0.5;\n",
       "    var min_x = Math.min(x0, x1);\n",
       "    var min_y = Math.min(y0, y1);\n",
       "    var width = Math.abs(x1 - x0);\n",
       "    var height = Math.abs(y1 - y0);\n",
       "\n",
       "    fig.rubberband_context.clearRect(\n",
       "        0, 0, fig.canvas.width, fig.canvas.height);\n",
       "\n",
       "    fig.rubberband_context.strokeRect(min_x, min_y, width, height);\n",
       "}\n",
       "\n",
       "mpl.figure.prototype.handle_figure_label = function(fig, msg) {\n",
       "    // Updates the figure title.\n",
       "    fig.header.textContent = msg['label'];\n",
       "}\n",
       "\n",
       "mpl.figure.prototype.handle_cursor = function(fig, msg) {\n",
       "    var cursor = msg['cursor'];\n",
       "    switch(cursor)\n",
       "    {\n",
       "    case 0:\n",
       "        cursor = 'pointer';\n",
       "        break;\n",
       "    case 1:\n",
       "        cursor = 'default';\n",
       "        break;\n",
       "    case 2:\n",
       "        cursor = 'crosshair';\n",
       "        break;\n",
       "    case 3:\n",
       "        cursor = 'move';\n",
       "        break;\n",
       "    }\n",
       "    fig.rubberband_canvas.style.cursor = cursor;\n",
       "}\n",
       "\n",
       "mpl.figure.prototype.handle_message = function(fig, msg) {\n",
       "    fig.message.textContent = msg['message'];\n",
       "}\n",
       "\n",
       "mpl.figure.prototype.handle_draw = function(fig, msg) {\n",
       "    // Request the server to send over a new figure.\n",
       "    fig.send_draw_message();\n",
       "}\n",
       "\n",
       "mpl.figure.prototype.handle_image_mode = function(fig, msg) {\n",
       "    fig.image_mode = msg['mode'];\n",
       "}\n",
       "\n",
       "mpl.figure.prototype.updated_canvas_event = function() {\n",
       "    // Called whenever the canvas gets updated.\n",
       "    this.send_message(\"ack\", {});\n",
       "}\n",
       "\n",
       "// A function to construct a web socket function for onmessage handling.\n",
       "// Called in the figure constructor.\n",
       "mpl.figure.prototype._make_on_message_function = function(fig) {\n",
       "    return function socket_on_message(evt) {\n",
       "        if (evt.data instanceof Blob) {\n",
       "            /* FIXME: We get \"Resource interpreted as Image but\n",
       "             * transferred with MIME type text/plain:\" errors on\n",
       "             * Chrome.  But how to set the MIME type?  It doesn't seem\n",
       "             * to be part of the websocket stream */\n",
       "            evt.data.type = \"image/png\";\n",
       "\n",
       "            /* Free the memory for the previous frames */\n",
       "            if (fig.imageObj.src) {\n",
       "                (window.URL || window.webkitURL).revokeObjectURL(\n",
       "                    fig.imageObj.src);\n",
       "            }\n",
       "\n",
       "            fig.imageObj.src = (window.URL || window.webkitURL).createObjectURL(\n",
       "                evt.data);\n",
       "            fig.updated_canvas_event();\n",
       "            fig.waiting = false;\n",
       "            return;\n",
       "        }\n",
       "        else if (typeof evt.data === 'string' && evt.data.slice(0, 21) == \"data:image/png;base64\") {\n",
       "            fig.imageObj.src = evt.data;\n",
       "            fig.updated_canvas_event();\n",
       "            fig.waiting = false;\n",
       "            return;\n",
       "        }\n",
       "\n",
       "        var msg = JSON.parse(evt.data);\n",
       "        var msg_type = msg['type'];\n",
       "\n",
       "        // Call the  \"handle_{type}\" callback, which takes\n",
       "        // the figure and JSON message as its only arguments.\n",
       "        try {\n",
       "            var callback = fig[\"handle_\" + msg_type];\n",
       "        } catch (e) {\n",
       "            console.log(\"No handler for the '\" + msg_type + \"' message type: \", msg);\n",
       "            return;\n",
       "        }\n",
       "\n",
       "        if (callback) {\n",
       "            try {\n",
       "                // console.log(\"Handling '\" + msg_type + \"' message: \", msg);\n",
       "                callback(fig, msg);\n",
       "            } catch (e) {\n",
       "                console.log(\"Exception inside the 'handler_\" + msg_type + \"' callback:\", e, e.stack, msg);\n",
       "            }\n",
       "        }\n",
       "    };\n",
       "}\n",
       "\n",
       "// from http://stackoverflow.com/questions/1114465/getting-mouse-location-in-canvas\n",
       "mpl.findpos = function(e) {\n",
       "    //this section is from http://www.quirksmode.org/js/events_properties.html\n",
       "    var targ;\n",
       "    if (!e)\n",
       "        e = window.event;\n",
       "    if (e.target)\n",
       "        targ = e.target;\n",
       "    else if (e.srcElement)\n",
       "        targ = e.srcElement;\n",
       "    if (targ.nodeType == 3) // defeat Safari bug\n",
       "        targ = targ.parentNode;\n",
       "\n",
       "    // jQuery normalizes the pageX and pageY\n",
       "    // pageX,Y are the mouse positions relative to the document\n",
       "    // offset() returns the position of the element relative to the document\n",
       "    var x = e.pageX - $(targ).offset().left;\n",
       "    var y = e.pageY - $(targ).offset().top;\n",
       "\n",
       "    return {\"x\": x, \"y\": y};\n",
       "};\n",
       "\n",
       "/*\n",
       " * return a copy of an object with only non-object keys\n",
       " * we need this to avoid circular references\n",
       " * http://stackoverflow.com/a/24161582/3208463\n",
       " */\n",
       "function simpleKeys (original) {\n",
       "  return Object.keys(original).reduce(function (obj, key) {\n",
       "    if (typeof original[key] !== 'object')\n",
       "        obj[key] = original[key]\n",
       "    return obj;\n",
       "  }, {});\n",
       "}\n",
       "\n",
       "mpl.figure.prototype.mouse_event = function(event, name) {\n",
       "    var canvas_pos = mpl.findpos(event)\n",
       "\n",
       "    if (name === 'button_press')\n",
       "    {\n",
       "        this.canvas.focus();\n",
       "        this.canvas_div.focus();\n",
       "    }\n",
       "\n",
       "    var x = canvas_pos.x * mpl.ratio;\n",
       "    var y = canvas_pos.y * mpl.ratio;\n",
       "\n",
       "    this.send_message(name, {x: x, y: y, button: event.button,\n",
       "                             step: event.step,\n",
       "                             guiEvent: simpleKeys(event)});\n",
       "\n",
       "    /* This prevents the web browser from automatically changing to\n",
       "     * the text insertion cursor when the button is pressed.  We want\n",
       "     * to control all of the cursor setting manually through the\n",
       "     * 'cursor' event from matplotlib */\n",
       "    event.preventDefault();\n",
       "    return false;\n",
       "}\n",
       "\n",
       "mpl.figure.prototype._key_event_extra = function(event, name) {\n",
       "    // Handle any extra behaviour associated with a key event\n",
       "}\n",
       "\n",
       "mpl.figure.prototype.key_event = function(event, name) {\n",
       "\n",
       "    // Prevent repeat events\n",
       "    if (name == 'key_press')\n",
       "    {\n",
       "        if (event.which === this._key)\n",
       "            return;\n",
       "        else\n",
       "            this._key = event.which;\n",
       "    }\n",
       "    if (name == 'key_release')\n",
       "        this._key = null;\n",
       "\n",
       "    var value = '';\n",
       "    if (event.ctrlKey && event.which != 17)\n",
       "        value += \"ctrl+\";\n",
       "    if (event.altKey && event.which != 18)\n",
       "        value += \"alt+\";\n",
       "    if (event.shiftKey && event.which != 16)\n",
       "        value += \"shift+\";\n",
       "\n",
       "    value += 'k';\n",
       "    value += event.which.toString();\n",
       "\n",
       "    this._key_event_extra(event, name);\n",
       "\n",
       "    this.send_message(name, {key: value,\n",
       "                             guiEvent: simpleKeys(event)});\n",
       "    return false;\n",
       "}\n",
       "\n",
       "mpl.figure.prototype.toolbar_button_onclick = function(name) {\n",
       "    if (name == 'download') {\n",
       "        this.handle_save(this, null);\n",
       "    } else {\n",
       "        this.send_message(\"toolbar_button\", {name: name});\n",
       "    }\n",
       "};\n",
       "\n",
       "mpl.figure.prototype.toolbar_button_onmouseover = function(tooltip) {\n",
       "    this.message.textContent = tooltip;\n",
       "};\n",
       "mpl.toolbar_items = [[\"Home\", \"Reset original view\", \"fa fa-home icon-home\", \"home\"], [\"Back\", \"Back to previous view\", \"fa fa-arrow-left icon-arrow-left\", \"back\"], [\"Forward\", \"Forward to next view\", \"fa fa-arrow-right icon-arrow-right\", \"forward\"], [\"\", \"\", \"\", \"\"], [\"Pan\", \"Pan axes with left mouse, zoom with right\", \"fa fa-arrows icon-move\", \"pan\"], [\"Zoom\", \"Zoom to rectangle\", \"fa fa-square-o icon-check-empty\", \"zoom\"], [\"\", \"\", \"\", \"\"], [\"Download\", \"Download plot\", \"fa fa-floppy-o icon-save\", \"download\"]];\n",
       "\n",
       "mpl.extensions = [\"eps\", \"jpeg\", \"pdf\", \"png\", \"ps\", \"raw\", \"svg\", \"tif\"];\n",
       "\n",
       "mpl.default_extension = \"png\";var comm_websocket_adapter = function(comm) {\n",
       "    // Create a \"websocket\"-like object which calls the given IPython comm\n",
       "    // object with the appropriate methods. Currently this is a non binary\n",
       "    // socket, so there is still some room for performance tuning.\n",
       "    var ws = {};\n",
       "\n",
       "    ws.close = function() {\n",
       "        comm.close()\n",
       "    };\n",
       "    ws.send = function(m) {\n",
       "        //console.log('sending', m);\n",
       "        comm.send(m);\n",
       "    };\n",
       "    // Register the callback with on_msg.\n",
       "    comm.on_msg(function(msg) {\n",
       "        //console.log('receiving', msg['content']['data'], msg);\n",
       "        // Pass the mpl event to the overridden (by mpl) onmessage function.\n",
       "        ws.onmessage(msg['content']['data'])\n",
       "    });\n",
       "    return ws;\n",
       "}\n",
       "\n",
       "mpl.mpl_figure_comm = function(comm, msg) {\n",
       "    // This is the function which gets called when the mpl process\n",
       "    // starts-up an IPython Comm through the \"matplotlib\" channel.\n",
       "\n",
       "    var id = msg.content.data.id;\n",
       "    // Get hold of the div created by the display call when the Comm\n",
       "    // socket was opened in Python.\n",
       "    var element = $(\"#\" + id);\n",
       "    var ws_proxy = comm_websocket_adapter(comm)\n",
       "\n",
       "    function ondownload(figure, format) {\n",
       "        window.open(figure.imageObj.src);\n",
       "    }\n",
       "\n",
       "    var fig = new mpl.figure(id, ws_proxy,\n",
       "                           ondownload,\n",
       "                           element.get(0));\n",
       "\n",
       "    // Call onopen now - mpl needs it, as it is assuming we've passed it a real\n",
       "    // web socket which is closed, not our websocket->open comm proxy.\n",
       "    ws_proxy.onopen();\n",
       "\n",
       "    fig.parent_element = element.get(0);\n",
       "    fig.cell_info = mpl.find_output_cell(\"<div id='\" + id + \"'></div>\");\n",
       "    if (!fig.cell_info) {\n",
       "        console.error(\"Failed to find cell for figure\", id, fig);\n",
       "        return;\n",
       "    }\n",
       "\n",
       "    var output_index = fig.cell_info[2]\n",
       "    var cell = fig.cell_info[0];\n",
       "\n",
       "};\n",
       "\n",
       "mpl.figure.prototype.handle_close = function(fig, msg) {\n",
       "    var width = fig.canvas.width/mpl.ratio\n",
       "    fig.root.unbind('remove')\n",
       "\n",
       "    // Update the output cell to use the data from the current canvas.\n",
       "    fig.push_to_output();\n",
       "    var dataURL = fig.canvas.toDataURL();\n",
       "    // Re-enable the keyboard manager in IPython - without this line, in FF,\n",
       "    // the notebook keyboard shortcuts fail.\n",
       "    IPython.keyboard_manager.enable()\n",
       "    $(fig.parent_element).html('<img src=\"' + dataURL + '\" width=\"' + width + '\">');\n",
       "    fig.close_ws(fig, msg);\n",
       "}\n",
       "\n",
       "mpl.figure.prototype.close_ws = function(fig, msg){\n",
       "    fig.send_message('closing', msg);\n",
       "    // fig.ws.close()\n",
       "}\n",
       "\n",
       "mpl.figure.prototype.push_to_output = function(remove_interactive) {\n",
       "    // Turn the data on the canvas into data in the output cell.\n",
       "    var width = this.canvas.width/mpl.ratio\n",
       "    var dataURL = this.canvas.toDataURL();\n",
       "    this.cell_info[1]['text/html'] = '<img src=\"' + dataURL + '\" width=\"' + width + '\">';\n",
       "}\n",
       "\n",
       "mpl.figure.prototype.updated_canvas_event = function() {\n",
       "    // Tell IPython that the notebook contents must change.\n",
       "    IPython.notebook.set_dirty(true);\n",
       "    this.send_message(\"ack\", {});\n",
       "    var fig = this;\n",
       "    // Wait a second, then push the new image to the DOM so\n",
       "    // that it is saved nicely (might be nice to debounce this).\n",
       "    setTimeout(function () { fig.push_to_output() }, 1000);\n",
       "}\n",
       "\n",
       "mpl.figure.prototype._init_toolbar = function() {\n",
       "    var fig = this;\n",
       "\n",
       "    var nav_element = $('<div/>')\n",
       "    nav_element.attr('style', 'width: 100%');\n",
       "    this.root.append(nav_element);\n",
       "\n",
       "    // Define a callback function for later on.\n",
       "    function toolbar_event(event) {\n",
       "        return fig.toolbar_button_onclick(event['data']);\n",
       "    }\n",
       "    function toolbar_mouse_event(event) {\n",
       "        return fig.toolbar_button_onmouseover(event['data']);\n",
       "    }\n",
       "\n",
       "    for(var toolbar_ind in mpl.toolbar_items){\n",
       "        var name = mpl.toolbar_items[toolbar_ind][0];\n",
       "        var tooltip = mpl.toolbar_items[toolbar_ind][1];\n",
       "        var image = mpl.toolbar_items[toolbar_ind][2];\n",
       "        var method_name = mpl.toolbar_items[toolbar_ind][3];\n",
       "\n",
       "        if (!name) { continue; };\n",
       "\n",
       "        var button = $('<button class=\"btn btn-default\" href=\"#\" title=\"' + name + '\"><i class=\"fa ' + image + ' fa-lg\"></i></button>');\n",
       "        button.click(method_name, toolbar_event);\n",
       "        button.mouseover(tooltip, toolbar_mouse_event);\n",
       "        nav_element.append(button);\n",
       "    }\n",
       "\n",
       "    // Add the status bar.\n",
       "    var status_bar = $('<span class=\"mpl-message\" style=\"text-align:right; float: right;\"/>');\n",
       "    nav_element.append(status_bar);\n",
       "    this.message = status_bar[0];\n",
       "\n",
       "    // Add the close button to the window.\n",
       "    var buttongrp = $('<div class=\"btn-group inline pull-right\"></div>');\n",
       "    var button = $('<button class=\"btn btn-mini btn-primary\" href=\"#\" title=\"Stop Interaction\"><i class=\"fa fa-power-off icon-remove icon-large\"></i></button>');\n",
       "    button.click(function (evt) { fig.handle_close(fig, {}); } );\n",
       "    button.mouseover('Stop Interaction', toolbar_mouse_event);\n",
       "    buttongrp.append(button);\n",
       "    var titlebar = this.root.find($('.ui-dialog-titlebar'));\n",
       "    titlebar.prepend(buttongrp);\n",
       "}\n",
       "\n",
       "mpl.figure.prototype._root_extra_style = function(el){\n",
       "    var fig = this\n",
       "    el.on(\"remove\", function(){\n",
       "\tfig.close_ws(fig, {});\n",
       "    });\n",
       "}\n",
       "\n",
       "mpl.figure.prototype._canvas_extra_style = function(el){\n",
       "    // this is important to make the div 'focusable\n",
       "    el.attr('tabindex', 0)\n",
       "    // reach out to IPython and tell the keyboard manager to turn it's self\n",
       "    // off when our div gets focus\n",
       "\n",
       "    // location in version 3\n",
       "    if (IPython.notebook.keyboard_manager) {\n",
       "        IPython.notebook.keyboard_manager.register_events(el);\n",
       "    }\n",
       "    else {\n",
       "        // location in version 2\n",
       "        IPython.keyboard_manager.register_events(el);\n",
       "    }\n",
       "\n",
       "}\n",
       "\n",
       "mpl.figure.prototype._key_event_extra = function(event, name) {\n",
       "    var manager = IPython.notebook.keyboard_manager;\n",
       "    if (!manager)\n",
       "        manager = IPython.keyboard_manager;\n",
       "\n",
       "    // Check for shift+enter\n",
       "    if (event.shiftKey && event.which == 13) {\n",
       "        this.canvas_div.blur();\n",
       "        event.shiftKey = false;\n",
       "        // Send a \"J\" for go to next cell\n",
       "        event.which = 74;\n",
       "        event.keyCode = 74;\n",
       "        manager.command_mode();\n",
       "        manager.handle_keydown(event);\n",
       "    }\n",
       "}\n",
       "\n",
       "mpl.figure.prototype.handle_save = function(fig, msg) {\n",
       "    fig.ondownload(fig, null);\n",
       "}\n",
       "\n",
       "\n",
       "mpl.find_output_cell = function(html_output) {\n",
       "    // Return the cell and output element which can be found *uniquely* in the notebook.\n",
       "    // Note - this is a bit hacky, but it is done because the \"notebook_saving.Notebook\"\n",
       "    // IPython event is triggered only after the cells have been serialised, which for\n",
       "    // our purposes (turning an active figure into a static one), is too late.\n",
       "    var cells = IPython.notebook.get_cells();\n",
       "    var ncells = cells.length;\n",
       "    for (var i=0; i<ncells; i++) {\n",
       "        var cell = cells[i];\n",
       "        if (cell.cell_type === 'code'){\n",
       "            for (var j=0; j<cell.output_area.outputs.length; j++) {\n",
       "                var data = cell.output_area.outputs[j];\n",
       "                if (data.data) {\n",
       "                    // IPython >= 3 moved mimebundle to data attribute of output\n",
       "                    data = data.data;\n",
       "                }\n",
       "                if (data['text/html'] == html_output) {\n",
       "                    return [cell, data, j];\n",
       "                }\n",
       "            }\n",
       "        }\n",
       "    }\n",
       "}\n",
       "\n",
       "// Register the function which deals with the matplotlib target/channel.\n",
       "// The kernel may be null if the page has been refreshed.\n",
       "if (IPython.notebook.kernel != null) {\n",
       "    IPython.notebook.kernel.comm_manager.register_target('matplotlib', mpl.mpl_figure_comm);\n",
       "}\n"
      ],
      "text/plain": [
       "<IPython.core.display.Javascript object>"
      ]
     },
     "metadata": {},
     "output_type": "display_data"
    },
    {
     "data": {
      "text/html": [
       "<img src=\"data:image/png;base64,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\" width=\"640\">"
      ],
      "text/plain": [
       "<IPython.core.display.HTML object>"
      ]
     },
     "metadata": {},
     "output_type": "display_data"
    },
    {
     "name": "stderr",
     "output_type": "stream",
     "text": [
      "  1%|          | 1/110 [00:00<00:24,  4.38it/s]"
     ]
    },
    {
     "name": "stdout",
     "output_type": "stream",
     "text": [
      "0\n",
      "Mean a: 0.99Mean b:0.01883\n",
      "Max a: 1.0Max b:1.883\n"
     ]
    },
    {
     "name": "stderr",
     "output_type": "stream",
     "text": [
      "\r",
      "  2%|▏         | 2/110 [00:00<00:23,  4.62it/s]"
     ]
    },
    {
     "name": "stdout",
     "output_type": "stream",
     "text": [
      "1\n",
      "Mean a: 0.9902110000000001Mean b:0.01696589\n",
      "Max a: 1.0Max b:1.6626890000000003\n",
      "2\n",
      "Mean a: 0.9873992529129199Mean b:0.018331022957080136\n",
      "Max a: 1.0Max b:1.6202037960896556\n"
     ]
    },
    {
     "name": "stderr",
     "output_type": "stream",
     "text": [
      "  4%|▎         | 4/110 [00:00<00:24,  4.37it/s]"
     ]
    },
    {
     "name": "stdout",
     "output_type": "stream",
     "text": [
      "3\n",
      "Mean a: 0.987088930954452Mean b:0.017189656319359\n",
      "Max a: 1.0Max b:1.4217036555137832\n"
     ]
    },
    {
     "name": "stderr",
     "output_type": "stream",
     "text": [
      "\r",
      "  5%|▍         | 5/110 [00:01<00:24,  4.30it/s]"
     ]
    },
    {
     "name": "stdout",
     "output_type": "stream",
     "text": [
      "4\n",
      "Mean a: 0.9854314554886825Mean b:0.01754605079326872\n",
      "Max a: 1.0Max b:1.4349951252747388\n"
     ]
    },
    {
     "name": "stderr",
     "output_type": "stream",
     "text": [
      "\r",
      "  5%|▌         | 6/110 [00:01<00:26,  3.96it/s]"
     ]
    },
    {
     "name": "stdout",
     "output_type": "stream",
     "text": [
      "5\n",
      "Mean a: 0.9850549487011545Mean b:0.01667093958610663\n",
      "Max a: 1.0Max b:1.3210065813743157\n"
     ]
    },
    {
     "name": "stderr",
     "output_type": "stream",
     "text": [
      "\r",
      "  6%|▋         | 7/110 [00:01<00:27,  3.81it/s]"
     ]
    },
    {
     "name": "stdout",
     "output_type": "stream",
     "text": [
      "6\n",
      "Mean a: 0.9840685995962271Mean b:0.016528766580896245\n",
      "Max a: 1.0Max b:1.2207787850607466\n"
     ]
    },
    {
     "name": "stderr",
     "output_type": "stream",
     "text": [
      "\r",
      "  7%|▋         | 8/110 [00:01<00:27,  3.75it/s]"
     ]
    },
    {
     "name": "stdout",
     "output_type": "stream",
     "text": [
      "7\n",
      "Mean a: 0.9831792229261962Mean b:0.016360504583169743\n",
      "Max a: 1.0Max b:1.167035941029175\n",
      "8\n",
      "Mean a: 0.9820811374252422Mean b:0.01646955378695203\n",
      "Max a: 1.0Max b:1.0065451437693165\n"
     ]
    },
    {
     "name": "stderr",
     "output_type": "stream",
     "text": [
      "  9%|▉         | 10/110 [00:02<00:28,  3.46it/s]"
     ]
    },
    {
     "name": "stdout",
     "output_type": "stream",
     "text": [
      "9\n",
      "Mean a: 0.9810261887713477Mean b:0.01658310208938495\n",
      "Max a: 1.0Max b:0.9360332304302217\n",
      "10\n",
      "Mean a: 0.9800855034141259Mean b:0.016627124119724498\n",
      "Max a: 1.0Max b:0.8268096636261419\n"
     ]
    },
    {
     "name": "stderr",
     "output_type": "stream",
     "text": [
      "\r",
      " 10%|█         | 11/110 [00:03<00:31,  3.16it/s]"
     ]
    },
    {
     "name": "stdout",
     "output_type": "stream",
     "text": [
      "11\n",
      "Mean a: 0.9792576740497844Mean b:0.016604877274281477\n",
      "Max a: 1.0Max b:0.7874879912374342\n"
     ]
    },
    {
     "name": "stderr",
     "output_type": "stream",
     "text": [
      " 12%|█▏        | 13/110 [00:03<00:31,  3.08it/s]"
     ]
    },
    {
     "name": "stdout",
     "output_type": "stream",
     "text": [
      "12\n",
      "Mean a: 0.9785152354171008Mean b:0.016545373193135673\n",
      "Max a: 1.0Max b:0.7141366183559316\n",
      "13\n",
      "Mean a: 0.9778398372740328Mean b:0.016466624724666347\n",
      "Max a: 1.0Max b:0.6754136048738065\n"
     ]
    },
    {
     "name": "stderr",
     "output_type": "stream",
     "text": [
      "\r",
      " 13%|█▎        | 14/110 [00:04<00:33,  2.91it/s]"
     ]
    },
    {
     "name": "stdout",
     "output_type": "stream",
     "text": [
      "14\n",
      "Mean a: 0.9772193642647733Mean b:0.016379311591068098\n",
      "Max a: 1.0Max b:0.6268946655227884\n"
     ]
    },
    {
     "name": "stderr",
     "output_type": "stream",
     "text": [
      "\r",
      " 14%|█▎        | 15/110 [00:04<00:31,  3.05it/s]"
     ]
    },
    {
     "name": "stdout",
     "output_type": "stream",
     "text": [
      "15\n",
      "Mean a: 0.9766461353513413Mean b:0.01628909601378275\n",
      "Max a: 1.0Max b:0.5937332927863\n"
     ]
    },
    {
     "name": "stderr",
     "output_type": "stream",
     "text": [
      "\r",
      " 15%|█▍        | 16/110 [00:04<00:31,  2.99it/s]"
     ]
    },
    {
     "name": "stdout",
     "output_type": "stream",
     "text": [
      "16\n",
      "Mean a: 0.9761150938911631Mean b:0.0161987757960245\n",
      "Max a: 1.0Max b:0.5605043801253056\n"
     ]
    },
    {
     "name": "stderr",
     "output_type": "stream",
     "text": [
      "\r",
      " 15%|█▌        | 17/110 [00:05<00:31,  2.94it/s]"
     ]
    },
    {
     "name": "stdout",
     "output_type": "stream",
     "text": [
      "17\n",
      "Mean a: 0.9756227615543699Mean b:0.016109521200668796\n",
      "Max a: 1.0Max b:0.5358921152574054\n"
     ]
    },
    {
     "name": "stderr",
     "output_type": "stream",
     "text": [
      "\r",
      " 16%|█▋        | 18/110 [00:05<00:32,  2.79it/s]"
     ]
    },
    {
     "name": "stdout",
     "output_type": "stream",
     "text": [
      "18\n",
      "Mean a: 0.9751665505001285Mean b:0.016021666388941803\n",
      "Max a: 1.0Max b:0.5168317395104387\n"
     ]
    },
    {
     "name": "stderr",
     "output_type": "stream",
     "text": [
      "\r",
      " 17%|█▋        | 19/110 [00:06<00:38,  2.34it/s]"
     ]
    },
    {
     "name": "stdout",
     "output_type": "stream",
     "text": [
      "19\n",
      "Mean a: 0.9747443924661086Mean b:0.015935129177948367\n",
      "Max a: 1.0Max b:0.5001852520069892\n"
     ]
    },
    {
     "name": "stderr",
     "output_type": "stream",
     "text": [
      "\r",
      " 18%|█▊        | 20/110 [00:06<00:43,  2.07it/s]"
     ]
    },
    {
     "name": "stdout",
     "output_type": "stream",
     "text": [
      "20\n",
      "Mean a: 0.9743545361421057Mean b:0.015849633802495298\n",
      "Max a: 1.0Max b:0.4852457619872596\n"
     ]
    },
    {
     "name": "stderr",
     "output_type": "stream",
     "text": [
      "\r",
      " 19%|█▉        | 21/110 [00:07<00:44,  2.00it/s]"
     ]
    },
    {
     "name": "stdout",
     "output_type": "stream",
     "text": [
      "21\n",
      "Mean a: 0.9739954425811941Mean b:0.015764820720699332\n",
      "Max a: 1.0Max b:0.4715991563171442\n"
     ]
    },
    {
     "name": "stderr",
     "output_type": "stream",
     "text": [
      "\r",
      " 20%|██        | 22/110 [00:07<00:42,  2.07it/s]"
     ]
    },
    {
     "name": "stdout",
     "output_type": "stream",
     "text": [
      "22\n",
      "Mean a: 0.9736657256784569Mean b:0.015680304257149044\n",
      "Max a: 1.0Max b:0.45903738852526993\n"
     ]
    },
    {
     "name": "stderr",
     "output_type": "stream",
     "text": [
      "\r",
      " 21%|██        | 23/110 [00:08<00:42,  2.06it/s]"
     ]
    },
    {
     "name": "stdout",
     "output_type": "stream",
     "text": [
      "23\n",
      "Mean a: 0.9733641167943315Mean b:0.015595702630872751\n",
      "Max a: 1.0Max b:0.4471490590058289\n"
     ]
    },
    {
     "name": "stderr",
     "output_type": "stream",
     "text": [
      "\r",
      " 22%|██▏       | 24/110 [00:08<00:40,  2.12it/s]"
     ]
    },
    {
     "name": "stdout",
     "output_type": "stream",
     "text": [
      "24\n",
      "Mean a: 0.9730894422307581Mean b:0.015510653562945757\n",
      "Max a: 1.0Max b:0.43658120859455435\n"
     ]
    },
    {
     "name": "stderr",
     "output_type": "stream",
     "text": [
      "\r",
      " 23%|██▎       | 25/110 [00:09<00:45,  1.89it/s]"
     ]
    },
    {
     "name": "stdout",
     "output_type": "stream",
     "text": [
      "25\n",
      "Mean a: 0.9728406082709149Mean b:0.015424821733232681\n",
      "Max a: 1.0Max b:0.4267818009863213\n"
     ]
    },
    {
     "name": "stderr",
     "output_type": "stream",
     "text": [
      "\r",
      " 24%|██▎       | 26/110 [00:09<00:44,  1.88it/s]"
     ]
    },
    {
     "name": "stdout",
     "output_type": "stream",
     "text": [
      "26\n",
      "Mean a: 0.9726165907617347Mean b:0.015337901644724294\n",
      "Max a: 1.0Max b:0.4174795330002398\n"
     ]
    },
    {
     "name": "stderr",
     "output_type": "stream",
     "text": [
      "\r",
      " 25%|██▍       | 27/110 [00:10<00:42,  1.95it/s]"
     ]
    },
    {
     "name": "stdout",
     "output_type": "stream",
     "text": [
      "27\n",
      "Mean a: 0.972416427485555Mean b:0.01524961793657589\n",
      "Max a: 1.0Max b:0.4086991905139524\n"
     ]
    },
    {
     "name": "stderr",
     "output_type": "stream",
     "text": [
      "\r",
      " 25%|██▌       | 28/110 [00:10<00:40,  2.02it/s]"
     ]
    },
    {
     "name": "stdout",
     "output_type": "stream",
     "text": [
      "28\n",
      "Mean a: 0.9722392122683706Mean b:0.015159724343475359\n",
      "Max a: 1.0Max b:0.40037904768673915\n"
     ]
    },
    {
     "name": "stderr",
     "output_type": "stream",
     "text": [
      "\r",
      " 26%|██▋       | 29/110 [00:11<00:39,  2.08it/s]"
     ]
    },
    {
     "name": "stdout",
     "output_type": "stream",
     "text": [
      "29\n",
      "Mean a: 0.9720840901984975Mean b:0.015068001990401661\n",
      "Max a: 1.0Max b:0.3925045037597374\n"
     ]
    },
    {
     "name": "stderr",
     "output_type": "stream",
     "text": [
      "\r",
      " 27%|██▋       | 30/110 [00:11<00:38,  2.09it/s]"
     ]
    },
    {
     "name": "stdout",
     "output_type": "stream",
     "text": [
      "30\n",
      "Mean a: 0.97195025358443Mean b:0.01497425741067482\n",
      "Max a: 1.0Max b:0.38503976098065307\n"
     ]
    },
    {
     "name": "stderr",
     "output_type": "stream",
     "text": [
      "\r",
      " 28%|██▊       | 31/110 [00:12<00:38,  2.05it/s]"
     ]
    },
    {
     "name": "stdout",
     "output_type": "stream",
     "text": [
      "31\n",
      "Mean a: 0.9718369384304326Mean b:0.01487832050047958\n",
      "Max a: 1.0Max b:0.37796006074663113\n"
     ]
    },
    {
     "name": "stderr",
     "output_type": "stream",
     "text": [
      "\r",
      " 29%|██▉       | 32/110 [00:12<00:38,  2.03it/s]"
     ]
    },
    {
     "name": "stdout",
     "output_type": "stream",
     "text": [
      "32\n",
      "Mean a: 0.9717434212945385Mean b:0.014780042524143808\n",
      "Max a: 1.0Max b:0.37123869355257966\n"
     ]
    },
    {
     "name": "stderr",
     "output_type": "stream",
     "text": [
      "\r",
      " 30%|███       | 33/110 [00:13<00:38,  2.02it/s]"
     ]
    },
    {
     "name": "stdout",
     "output_type": "stream",
     "text": [
      "33\n",
      "Mean a: 0.9716690164431381Mean b:0.014679294229019837\n",
      "Max a: 1.0Max b:0.3648508004334159\n"
     ]
    },
    {
     "name": "stderr",
     "output_type": "stream",
     "text": [
      "\r",
      " 31%|███       | 34/110 [00:13<00:37,  2.02it/s]"
     ]
    },
    {
     "name": "stdout",
     "output_type": "stream",
     "text": [
      "34\n",
      "Mean a: 0.97161307324527Mean b:0.014575964097719859\n",
      "Max a: 1.0Max b:0.3587735156187804\n"
     ]
    },
    {
     "name": "stderr",
     "output_type": "stream",
     "text": [
      "\r",
      " 32%|███▏      | 35/110 [00:14<00:37,  1.98it/s]"
     ]
    },
    {
     "name": "stdout",
     "output_type": "stream",
     "text": [
      "35\n",
      "Mean a: 0.9715749737672802Mean b:0.01446995674778682\n",
      "Max a: 1.0Max b:0.3529843845706999\n"
     ]
    },
    {
     "name": "stderr",
     "output_type": "stream",
     "text": [
      "\r",
      " 33%|███▎      | 36/110 [00:14<00:37,  1.96it/s]"
     ]
    },
    {
     "name": "stdout",
     "output_type": "stream",
     "text": [
      "36\n",
      "Mean a: 0.9715541305395793Mean b:0.014361191478796212\n",
      "Max a: 1.0Max b:0.34746302295483555\n"
     ]
    },
    {
     "name": "stderr",
     "output_type": "stream",
     "text": [
      "\r",
      " 34%|███▎      | 37/110 [00:15<00:38,  1.91it/s]"
     ]
    },
    {
     "name": "stdout",
     "output_type": "stream",
     "text": [
      "37\n",
      "Mean a: 0.9715499844745187Mean b:0.014249600961160777\n",
      "Max a: 1.0Max b:0.3421895796109198\n"
     ]
    },
    {
     "name": "stderr",
     "output_type": "stream",
     "text": [
      "\r",
      " 35%|███▍      | 38/110 [00:15<00:38,  1.87it/s]"
     ]
    },
    {
     "name": "stdout",
     "output_type": "stream",
     "text": [
      "38\n",
      "Mean a: 0.9715620029192978Mean b:0.01413513005782729\n",
      "Max a: 1.0Max b:0.33714576799236823\n"
     ]
    },
    {
     "name": "stderr",
     "output_type": "stream",
     "text": [
      "\r",
      " 35%|███▌      | 39/110 [00:16<00:41,  1.71it/s]"
     ]
    },
    {
     "name": "stdout",
     "output_type": "stream",
     "text": [
      "39\n",
      "Mean a: 0.9715896778312128Mean b:0.014017734768585265\n",
      "Max a: 1.0Max b:0.33231401418243117\n"
     ]
    },
    {
     "name": "stderr",
     "output_type": "stream",
     "text": [
      "\r",
      " 36%|███▋      | 40/110 [00:17<00:41,  1.70it/s]"
     ]
    },
    {
     "name": "stdout",
     "output_type": "stream",
     "text": [
      "40\n",
      "Mean a: 0.9716325240649097Mean b:0.013897381286247113\n",
      "Max a: 1.0Max b:0.3276779009049887\n"
     ]
    },
    {
     "name": "stderr",
     "output_type": "stream",
     "text": [
      "\r",
      " 37%|███▋      | 41/110 [00:17<00:43,  1.57it/s]"
     ]
    },
    {
     "name": "stdout",
     "output_type": "stream",
     "text": [
      "41\n",
      "Mean a: 0.9716900777629844Mean b:0.013774045154111625\n",
      "Max a: 1.0Max b:0.32322175946365106\n"
     ]
    },
    {
     "name": "stderr",
     "output_type": "stream",
     "text": [
      "\r",
      " 38%|███▊      | 42/110 [00:18<00:48,  1.40it/s]"
     ]
    },
    {
     "name": "stdout",
     "output_type": "stream",
     "text": [
      "42\n",
      "Mean a: 0.9717618948424648Mean b:0.013647710514635923\n",
      "Max a: 1.0Max b:0.3189308092523837\n"
     ]
    },
    {
     "name": "stderr",
     "output_type": "stream",
     "text": [
      "\r",
      " 39%|███▉      | 43/110 [00:19<00:48,  1.38it/s]"
     ]
    },
    {
     "name": "stdout",
     "output_type": "stream",
     "text": [
      "43\n",
      "Mean a: 0.971847549570605Mean b:0.013518369439947903\n",
      "Max a: 1.0Max b:0.3147909622199781\n"
     ]
    },
    {
     "name": "stderr",
     "output_type": "stream",
     "text": [
      "\r",
      " 40%|████      | 44/110 [00:20<00:48,  1.36it/s]"
     ]
    },
    {
     "name": "stdout",
     "output_type": "stream",
     "text": [
      "44\n",
      "Mean a: 0.9719466332240714Mean b:0.013386021335624389\n",
      "Max a: 1.0Max b:0.3107888365170517\n"
     ]
    },
    {
     "name": "stderr",
     "output_type": "stream",
     "text": [
      "\r",
      " 41%|████      | 45/110 [00:21<00:50,  1.29it/s]"
     ]
    },
    {
     "name": "stdout",
     "output_type": "stream",
     "text": [
      "45\n",
      "Mean a: 0.9720587528261311Mean b:0.013250672409972776\n",
      "Max a: 1.0Max b:0.30691165173367935\n"
     ]
    },
    {
     "name": "stderr",
     "output_type": "stream",
     "text": [
      "\r",
      " 42%|████▏     | 46/110 [00:21<00:48,  1.31it/s]"
     ]
    },
    {
     "name": "stdout",
     "output_type": "stream",
     "text": [
      "46\n",
      "Mean a: 0.972183529956856Mean b:0.013112335201843836\n",
      "Max a: 1.0Max b:0.30314719956375336\n"
     ]
    },
    {
     "name": "stderr",
     "output_type": "stream",
     "text": [
      "\r",
      " 43%|████▎     | 47/110 [00:22<00:49,  1.27it/s]"
     ]
    },
    {
     "name": "stdout",
     "output_type": "stream",
     "text": [
      "47\n",
      "Mean a: 0.9723205996317084Mean b:0.012971028160748597\n",
      "Max a: 1.0Max b:0.29948377744964716\n"
     ]
    },
    {
     "name": "stderr",
     "output_type": "stream",
     "text": [
      "\r",
      " 44%|████▎     | 48/110 [00:23<00:49,  1.26it/s]"
     ]
    },
    {
     "name": "stdout",
     "output_type": "stream",
     "text": [
      "48\n",
      "Mean a: 0.9724696092441661Mean b:0.012826775273739367\n",
      "Max a: 1.0Max b:0.29591014933926657\n"
     ]
    },
    {
     "name": "stderr",
     "output_type": "stream",
     "text": [
      "\r",
      " 45%|████▍     | 49/110 [00:24<00:46,  1.32it/s]"
     ]
    },
    {
     "name": "stdout",
     "output_type": "stream",
     "text": [
      "49\n",
      "Mean a: 0.9726302175683084Mean b:0.012679605734140412\n",
      "Max a: 1.0Max b:0.29241549755288543\n"
     ]
    },
    {
     "name": "stderr",
     "output_type": "stream",
     "text": [
      "\r",
      " 45%|████▌     | 50/110 [00:25<00:49,  1.20it/s]"
     ]
    },
    {
     "name": "stdout",
     "output_type": "stream",
     "text": [
      "50\n",
      "Mean a: 0.9728020938175213Mean b:0.012529553647776286\n",
      "Max a: 1.0Max b:0.28898938550595393\n"
     ]
    },
    {
     "name": "stderr",
     "output_type": "stream",
     "text": [
      "\r",
      " 46%|████▋     | 51/110 [00:26<00:49,  1.18it/s]"
     ]
    },
    {
     "name": "stdout",
     "output_type": "stream",
     "text": [
      "51\n",
      "Mean a: 0.9729849167556962Mean b:0.012376657772847847\n",
      "Max a: 1.0Max b:0.2857211493373803\n"
     ]
    },
    {
     "name": "stderr",
     "output_type": "stream",
     "text": [
      "\r",
      " 47%|████▋     | 52/110 [00:26<00:48,  1.20it/s]"
     ]
    },
    {
     "name": "stdout",
     "output_type": "stream",
     "text": [
      "52\n",
      "Mean a: 0.9731783738575066Mean b:0.012220961290051012\n",
      "Max a: 1.0Max b:0.2827261403977327\n"
     ]
    },
    {
     "name": "stderr",
     "output_type": "stream",
     "text": [
      "\r",
      " 48%|████▊     | 53/110 [00:27<00:47,  1.21it/s]"
     ]
    },
    {
     "name": "stdout",
     "output_type": "stream",
     "text": [
      "53\n",
      "Mean a: 0.9733821605145336Mean b:0.012062511599925234\n",
      "Max a: 1.0Max b:0.27978335345034794\n"
     ]
    },
    {
     "name": "stderr",
     "output_type": "stream",
     "text": [
      "\r",
      " 49%|████▉     | 54/110 [00:28<00:44,  1.25it/s]"
     ]
    },
    {
     "name": "stdout",
     "output_type": "stream",
     "text": [
      "54\n",
      "Mean a: 0.9735959792842059Mean b:0.011901360144762459\n",
      "Max a: 1.0Max b:0.2769137365387366\n"
     ]
    },
    {
     "name": "stderr",
     "output_type": "stream",
     "text": [
      "\r",
      " 50%|█████     | 55/110 [00:29<00:45,  1.20it/s]"
     ]
    },
    {
     "name": "stdout",
     "output_type": "stream",
     "text": [
      "55\n",
      "Mean a: 0.9738195391786936Mean b:0.011737562252706127\n",
      "Max a: 1.0Max b:0.2741412627748627\n"
     ]
    },
    {
     "name": "stderr",
     "output_type": "stream",
     "text": [
      "\r",
      " 51%|█████     | 56/110 [00:30<00:45,  1.19it/s]"
     ]
    },
    {
     "name": "stdout",
     "output_type": "stream",
     "text": [
      "56\n",
      "Mean a: 0.974052554991076Mean b:0.011571177001928976\n",
      "Max a: 1.0Max b:0.27139660822728273\n"
     ]
    },
    {
     "name": "stderr",
     "output_type": "stream",
     "text": [
      "\r",
      " 52%|█████▏    | 57/110 [00:31<00:49,  1.07it/s]"
     ]
    },
    {
     "name": "stdout",
     "output_type": "stream",
     "text": [
      "57\n",
      "Mean a: 0.97429474665627Mean b:0.011402267103000331\n",
      "Max a: 1.0Max b:0.2686710721677847\n"
     ]
    },
    {
     "name": "stderr",
     "output_type": "stream",
     "text": [
      "\r",
      " 53%|█████▎    | 58/110 [00:32<00:47,  1.09it/s]"
     ]
    },
    {
     "name": "stdout",
     "output_type": "stream",
     "text": [
      "58\n",
      "Mean a: 0.9745458386443817Mean b:0.011230898797742693\n",
      "Max a: 1.0Max b:0.26595611122123636\n"
     ]
    },
    {
     "name": "stderr",
     "output_type": "stream",
     "text": [
      "\r",
      " 54%|█████▎    | 59/110 [00:33<00:46,  1.10it/s]"
     ]
    },
    {
     "name": "stdout",
     "output_type": "stream",
     "text": [
      "59\n",
      "Mean a: 0.9748055593843116Mean b:0.01105714177303601\n",
      "Max a: 1.0Max b:0.26324332072834317\n"
     ]
    },
    {
     "name": "stderr",
     "output_type": "stream",
     "text": [
      "\r",
      " 55%|█████▍    | 60/110 [00:33<00:44,  1.13it/s]"
     ]
    },
    {
     "name": "stdout",
     "output_type": "stream",
     "text": [
      "60\n",
      "Mean a: 0.9750736407156059Mean b:0.010881069088159287\n",
      "Max a: 1.0Max b:0.26070264941868765\n"
     ]
    },
    {
     "name": "stderr",
     "output_type": "stream",
     "text": [
      "\r",
      " 55%|█████▌    | 61/110 [00:34<00:41,  1.18it/s]"
     ]
    },
    {
     "name": "stdout",
     "output_type": "stream",
     "text": [
      "61\n",
      "Mean a: 0.9753498173667269Mean b:0.010702757114365385\n",
      "Max a: 1.0Max b:0.2584008849422018\n"
     ]
    },
    {
     "name": "stderr",
     "output_type": "stream",
     "text": [
      "\r",
      " 56%|█████▋    | 62/110 [00:35<00:39,  1.22it/s]"
     ]
    },
    {
     "name": "stdout",
     "output_type": "stream",
     "text": [
      "62\n",
      "Mean a: 0.9756338264580733Mean b:0.010522285485468377\n",
      "Max a: 1.0Max b:0.25609097997991426\n"
     ]
    },
    {
     "name": "stderr",
     "output_type": "stream",
     "text": [
      "\r",
      " 57%|█████▋    | 63/110 [00:36<00:37,  1.25it/s]"
     ]
    },
    {
     "name": "stdout",
     "output_type": "stream",
     "text": [
      "63\n",
      "Mean a: 0.9759254070282619Mean b:0.010339737058285968\n",
      "Max a: 1.0Max b:0.25376499572814804\n"
     ]
    },
    {
     "name": "stderr",
     "output_type": "stream",
     "text": [
      "\r",
      " 58%|█████▊    | 64/110 [00:37<00:41,  1.11it/s]"
     ]
    },
    {
     "name": "stdout",
     "output_type": "stream",
     "text": [
      "64\n",
      "Mean a: 0.9762242995823499Mean b:0.010155197881824177\n",
      "Max a: 1.0Max b:0.2514150241926498\n"
     ]
    },
    {
     "name": "stderr",
     "output_type": "stream",
     "text": [
      "\r",
      " 59%|█████▉    | 65/110 [00:38<00:41,  1.09it/s]"
     ]
    },
    {
     "name": "stdout",
     "output_type": "stream",
     "text": [
      "65\n",
      "Mean a: 0.9765302456608516Mean b:0.009968757174119902\n",
      "Max a: 1.0Max b:0.2491038900219829\n"
     ]
    },
    {
     "name": "stderr",
     "output_type": "stream",
     "text": [
      "\r",
      " 60%|██████    | 66/110 [00:39<00:41,  1.05it/s]"
     ]
    },
    {
     "name": "stdout",
     "output_type": "stream",
     "text": [
      "66\n",
      "Mean a: 0.976842987428581Mean b:0.009780507305671716\n",
      "Max a: 1.0Max b:0.24704744846103635\n"
     ]
    },
    {
     "name": "stderr",
     "output_type": "stream",
     "text": [
      "\r",
      " 61%|██████    | 67/110 [00:40<00:41,  1.05it/s]"
     ]
    },
    {
     "name": "stdout",
     "output_type": "stream",
     "text": [
      "67\n",
      "Mean a: 0.9771622672825251Mean b:0.009590543788391954\n",
      "Max a: 1.0Max b:0.24501615271601185\n"
     ]
    },
    {
     "name": "stderr",
     "output_type": "stream",
     "text": [
      "\r",
      " 62%|██████▏   | 68/110 [00:41<00:40,  1.03it/s]"
     ]
    },
    {
     "name": "stdout",
     "output_type": "stream",
     "text": [
      "68\n",
      "Mean a: 0.9774878274781291Mean b:0.009398965269007263\n",
      "Max a: 1.0Max b:0.24301069836107986\n"
     ]
    },
    {
     "name": "stderr",
     "output_type": "stream",
     "text": [
      "\r",
      " 63%|██████▎   | 69/110 [00:42<00:41,  1.01s/it]"
     ]
    },
    {
     "name": "stdout",
     "output_type": "stream",
     "text": [
      "69\n",
      "Mean a: 0.9778194097735432Mean b:0.009205873525822512\n",
      "Max a: 1.0Max b:0.24095904461361922\n"
     ]
    },
    {
     "name": "stderr",
     "output_type": "stream",
     "text": [
      "\r",
      " 64%|██████▎   | 70/110 [00:43<00:41,  1.05s/it]"
     ]
    },
    {
     "name": "stdout",
     "output_type": "stream",
     "text": [
      "70\n",
      "Mean a: 0.9781567550915513Mean b:0.009011373467748152\n",
      "Max a: 1.0Max b:0.23889213413543553\n"
     ]
    },
    {
     "name": "stderr",
     "output_type": "stream",
     "text": [
      "\r",
      " 65%|██████▍   | 71/110 [00:44<00:42,  1.08s/it]"
     ]
    },
    {
     "name": "stdout",
     "output_type": "stream",
     "text": [
      "71\n",
      "Mean a: 0.9784996031990606Mean b:0.008815573134477128\n",
      "Max a: 1.0Max b:0.23713755164505404\n"
     ]
    },
    {
     "name": "stderr",
     "output_type": "stream",
     "text": [
      "\r",
      " 65%|██████▌   | 72/110 [00:45<00:40,  1.07s/it]"
     ]
    },
    {
     "name": "stdout",
     "output_type": "stream",
     "text": [
      "72\n",
      "Mean a: 0.9788476924041668Mean b:0.008618583696688675\n",
      "Max a: 1.0Max b:0.2353283718720296\n"
     ]
    },
    {
     "name": "stderr",
     "output_type": "stream",
     "text": [
      "\r",
      " 66%|██████▋   | 73/110 [00:46<00:41,  1.12s/it]"
     ]
    },
    {
     "name": "stdout",
     "output_type": "stream",
     "text": [
      "73\n",
      "Mean a: 0.9792007592709562Mean b:0.008420519455157606\n",
      "Max a: 1.0Max b:0.23345651102272402\n"
     ]
    },
    {
     "name": "stderr",
     "output_type": "stream",
     "text": [
      "\r",
      " 67%|██████▋   | 74/110 [00:47<00:38,  1.07s/it]"
     ]
    },
    {
     "name": "stdout",
     "output_type": "stream",
     "text": [
      "74\n",
      "Mean a: 0.9795585383522936Mean b:0.0082214978376644\n",
      "Max a: 1.0Max b:0.23180660586627708\n"
     ]
    },
    {
     "name": "stderr",
     "output_type": "stream",
     "text": [
      "\r",
      " 68%|██████▊   | 75/110 [00:49<00:40,  1.16s/it]"
     ]
    },
    {
     "name": "stdout",
     "output_type": "stream",
     "text": [
      "75\n",
      "Mean a: 0.9799207619409359Mean b:0.008021639392639222\n",
      "Max a: 1.0Max b:0.23019944200824882\n"
     ]
    },
    {
     "name": "stderr",
     "output_type": "stream",
     "text": [
      "\r",
      " 69%|██████▉   | 76/110 [00:50<00:38,  1.15s/it]"
     ]
    },
    {
     "name": "stdout",
     "output_type": "stream",
     "text": [
      "76\n",
      "Mean a: 0.9802871598393458Mean b:0.007821067778539038\n",
      "Max a: 1.0Max b:0.22856956625536912\n"
     ]
    },
    {
     "name": "stderr",
     "output_type": "stream",
     "text": [
      "\r",
      " 70%|███████   | 77/110 [00:51<00:36,  1.10s/it]"
     ]
    },
    {
     "name": "stdout",
     "output_type": "stream",
     "text": [
      "77\n",
      "Mean a: 0.9806574591485744Mean b:0.007619909748057532\n",
      "Max a: 1.0Max b:0.22705670398250827\n"
     ]
    },
    {
     "name": "stderr",
     "output_type": "stream",
     "text": [
      "\r",
      " 71%|███████   | 78/110 [00:52<00:36,  1.14s/it]"
     ]
    },
    {
     "name": "stdout",
     "output_type": "stream",
     "text": [
      "78\n",
      "Mean a: 0.9810313840765269Mean b:0.0074182951264106225\n",
      "Max a: 1.0Max b:0.2255977701860328\n"
     ]
    },
    {
     "name": "stderr",
     "output_type": "stream",
     "text": [
      "\r",
      " 72%|███████▏  | 79/110 [00:53<00:34,  1.11s/it]"
     ]
    },
    {
     "name": "stdout",
     "output_type": "stream",
     "text": [
      "79\n",
      "Mean a: 0.9814086557658055Mean b:0.007216356783133125\n",
      "Max a: 1.0Max b:0.22421064971648508\n"
     ]
    },
    {
     "name": "stderr",
     "output_type": "stream",
     "text": [
      "\r",
      " 73%|███████▎  | 80/110 [00:54<00:35,  1.17s/it]"
     ]
    },
    {
     "name": "stdout",
     "output_type": "stream",
     "text": [
      "80\n",
      "Mean a: 0.9817889921411206Mean b:0.007014230597072051\n",
      "Max a: 1.0Max b:0.22293116794574103\n"
     ]
    },
    {
     "name": "stderr",
     "output_type": "stream",
     "text": [
      "\r",
      " 74%|███████▎  | 81/110 [00:55<00:32,  1.11s/it]"
     ]
    },
    {
     "name": "stdout",
     "output_type": "stream",
     "text": [
      "81\n",
      "Mean a: 0.9821721077759976Mean b:0.006812055414576113\n",
      "Max a: 1.0Max b:0.22171349703825982\n"
     ]
    },
    {
     "name": "stderr",
     "output_type": "stream",
     "text": [
      "\r",
      " 75%|███████▍  | 82/110 [00:57<00:30,  1.08s/it]"
     ]
    },
    {
     "name": "stdout",
     "output_type": "stream",
     "text": [
      "82\n",
      "Mean a: 0.9825577137781236Mean b:0.006609973001264887\n",
      "Max a: 1.0Max b:0.22059048553395272\n"
     ]
    },
    {
     "name": "stderr",
     "output_type": "stream",
     "text": [
      "\r",
      " 75%|███████▌  | 83/110 [00:58<00:30,  1.14s/it]"
     ]
    },
    {
     "name": "stdout",
     "output_type": "stream",
     "text": [
      "83\n",
      "Mean a: 0.982945517692225Mean b:0.006408127988218682\n",
      "Max a: 1.0Max b:0.21942633307763143\n"
     ]
    },
    {
     "name": "stderr",
     "output_type": "stream",
     "text": [
      "\r",
      " 76%|███████▋  | 84/110 [00:59<00:31,  1.23s/it]"
     ]
    },
    {
     "name": "stdout",
     "output_type": "stream",
     "text": [
      "84\n",
      "Mean a: 0.9833352234187872Mean b:0.006206667813962585\n",
      "Max a: 1.0Max b:0.2181633317028272\n"
     ]
    },
    {
     "name": "stderr",
     "output_type": "stream",
     "text": [
      "\r",
      " 77%|███████▋  | 85/110 [01:01<00:31,  1.26s/it]"
     ]
    },
    {
     "name": "stdout",
     "output_type": "stream",
     "text": [
      "85\n",
      "Mean a: 0.9837265311462606Mean b:0.006005742664222349\n",
      "Max a: 1.0Max b:0.21679016462601475\n"
     ]
    },
    {
     "name": "stderr",
     "output_type": "stream",
     "text": [
      "\r",
      " 78%|███████▊  | 86/110 [01:02<00:29,  1.22s/it]"
     ]
    },
    {
     "name": "stdout",
     "output_type": "stream",
     "text": [
      "86\n",
      "Mean a: 0.9841191372936277Mean b:0.005805505412097014\n",
      "Max a: 1.0Max b:0.21529495163277285\n"
     ]
    },
    {
     "name": "stderr",
     "output_type": "stream",
     "text": [
      "\r",
      " 79%|███████▉  | 87/110 [01:03<00:28,  1.23s/it]"
     ]
    },
    {
     "name": "stdout",
     "output_type": "stream",
     "text": [
      "87\n",
      "Mean a: 0.9845127344593532Mean b:0.005606111562006858\n",
      "Max a: 1.0Max b:0.2136652469234706\n"
     ]
    },
    {
     "name": "stderr",
     "output_type": "stream",
     "text": [
      "\r",
      " 80%|████████  | 88/110 [01:04<00:25,  1.16s/it]"
     ]
    },
    {
     "name": "stdout",
     "output_type": "stream",
     "text": [
      "88\n",
      "Mean a: 0.9849070113718319Mean b:0.005407719201508747\n",
      "Max a: 1.0Max b:0.21188804807634715\n"
     ]
    },
    {
     "name": "stderr",
     "output_type": "stream",
     "text": [
      "\r",
      " 81%|████████  | 89/110 [01:05<00:23,  1.12s/it]"
     ]
    },
    {
     "name": "stdout",
     "output_type": "stream",
     "text": [
      "89\n",
      "Mean a: 0.9853016528355296Mean b:0.0052104889657838644\n",
      "Max a: 1.0Max b:0.20994981931469892\n"
     ]
    },
    {
     "name": "stderr",
     "output_type": "stream",
     "text": [
      "\r",
      " 82%|████████▏ | 90/110 [01:06<00:22,  1.13s/it]"
     ]
    },
    {
     "name": "stdout",
     "output_type": "stream",
     "text": [
      "90\n",
      "Mean a: 0.9856963396661247Mean b:0.0050145840202379536\n",
      "Max a: 1.0Max b:0.20783653291612741\n"
     ]
    },
    {
     "name": "stderr",
     "output_type": "stream",
     "text": [
      "\r",
      " 83%|████████▎ | 91/110 [01:07<00:21,  1.13s/it]"
     ]
    },
    {
     "name": "stdout",
     "output_type": "stream",
     "text": [
      "91\n",
      "Mean a: 0.9860907486072253Mean b:0.004820170067132724\n",
      "Max a: 1.0Max b:0.20553373332238778\n"
     ]
    },
    {
     "name": "stderr",
     "output_type": "stream",
     "text": [
      "\r",
      " 84%|████████▎ | 92/110 [01:08<00:19,  1.11s/it]"
     ]
    },
    {
     "name": "stdout",
     "output_type": "stream",
     "text": [
      "92\n",
      "Mean a: 0.9864845522207221Mean b:0.004627415382384162\n",
      "Max a: 1.0Max b:0.2030266292791189\n"
     ]
    },
    {
     "name": "stderr",
     "output_type": "stream",
     "text": [
      "\r",
      " 85%|████████▍ | 93/110 [01:09<00:18,  1.09s/it]"
     ]
    },
    {
     "name": "stdout",
     "output_type": "stream",
     "text": [
      "93\n",
      "Mean a: 0.9868774187427447Mean b:0.00443649088848276\n",
      "Max a: 1.0Max b:0.2003002201200315\n"
     ]
    },
    {
     "name": "stderr",
     "output_type": "stream",
     "text": [
      "\r",
      " 85%|████████▌ | 94/110 [01:10<00:17,  1.10s/it]"
     ]
    },
    {
     "name": "stdout",
     "output_type": "stream",
     "text": [
      "94\n",
      "Mean a: 0.987269011897684Mean b:0.004247570268740326\n",
      "Max a: 1.0Max b:0.19733946305148126\n"
     ]
    },
    {
     "name": "stderr",
     "output_type": "stream",
     "text": [
      "\r",
      " 86%|████████▋ | 95/110 [01:12<00:16,  1.09s/it]"
     ]
    },
    {
     "name": "stdout",
     "output_type": "stream",
     "text": [
      "95\n",
      "Mean a: 0.987658990664072Mean b:0.004060830126537047\n",
      "Max a: 1.0Max b:0.19412948890142134\n"
     ]
    },
    {
     "name": "stderr",
     "output_type": "stream",
     "text": [
      "\r",
      " 87%|████████▋ | 96/110 [01:13<00:15,  1.10s/it]"
     ]
    },
    {
     "name": "stdout",
     "output_type": "stream",
     "text": [
      "96\n",
      "Mean a: 0.9880470089885995Mean b:0.003876450190680805\n",
      "Max a: 1.0Max b:0.19065587414250137\n"
     ]
    },
    {
     "name": "stderr",
     "output_type": "stream",
     "text": [
      "\r",
      " 88%|████████▊ | 97/110 [01:14<00:14,  1.10s/it]"
     ]
    },
    {
     "name": "stdout",
     "output_type": "stream",
     "text": [
      "97\n",
      "Mean a: 0.9884327154484827Mean b:0.0036946135641150947\n",
      "Max a: 1.0Max b:0.18690497690500973\n"
     ]
    },
    {
     "name": "stderr",
     "output_type": "stream",
     "text": [
      "\r",
      " 89%|████████▉ | 98/110 [01:15<00:13,  1.11s/it]"
     ]
    },
    {
     "name": "stdout",
     "output_type": "stream",
     "text": [
      "98\n",
      "Mean a: 0.9888157528682096Mean b:0.003515507007720268\n",
      "Max a: 1.0Max b:0.18286434392841025\n"
     ]
    },
    {
     "name": "stderr",
     "output_type": "stream",
     "text": [
      "\r",
      " 90%|█████████ | 99/110 [01:16<00:12,  1.14s/it]"
     ]
    },
    {
     "name": "stdout",
     "output_type": "stream",
     "text": [
      "99\n",
      "Mean a: 0.9891957579047216Mean b:0.0033393212435533846\n",
      "Max a: 1.0Max b:0.17852319367007347\n"
     ]
    },
    {
     "name": "stderr",
     "output_type": "stream",
     "text": [
      "\r",
      " 91%|█████████ | 100/110 [01:17<00:11,  1.14s/it]"
     ]
    },
    {
     "name": "stdout",
     "output_type": "stream",
     "text": [
      "100\n",
      "Mean a: 0.989572360625687Mean b:0.003166251252332597\n",
      "Max a: 1.0Max b:0.1738729777570224\n"
     ]
    },
    {
     "name": "stderr",
     "output_type": "stream",
     "text": [
      "\r",
      " 92%|█████████▏| 101/110 [01:19<00:11,  1.29s/it]"
     ]
    },
    {
     "name": "stdout",
     "output_type": "stream",
     "text": [
      "101\n",
      "Mean a: 0.98994518411889Mean b:0.002996496528193923\n",
      "Max a: 1.0Max b:0.16890801826762616\n"
     ]
    },
    {
     "name": "stderr",
     "output_type": "stream",
     "text": [
      "\r",
      " 93%|█████████▎| 102/110 [01:21<00:11,  1.40s/it]"
     ]
    },
    {
     "name": "stdout",
     "output_type": "stream",
     "text": [
      "102\n",
      "Mean a: 0.9903138441868731Mean b:0.002830261239873371\n",
      "Max a: 1.0Max b:0.16362621162783905\n"
     ]
    },
    {
     "name": "stderr",
     "output_type": "stream",
     "text": [
      "\r",
      " 94%|█████████▎| 103/110 [01:22<00:09,  1.39s/it]"
     ]
    },
    {
     "name": "stdout",
     "output_type": "stream",
     "text": [
      "103\n",
      "Mean a: 0.9906779491993886Mean b:0.002667754232014692\n",
      "Max a: 1.0Max b:0.15802978097340795\n"
     ]
    },
    {
     "name": "stderr",
     "output_type": "stream",
     "text": [
      "\r",
      " 95%|█████████▍| 104/110 [01:23<00:08,  1.45s/it]"
     ]
    },
    {
     "name": "stdout",
     "output_type": "stream",
     "text": [
      "104\n",
      "Mean a: 0.99103710019596Mean b:0.0025091887843311867\n",
      "Max a: 1.0Max b:0.15212604767111682\n"
     ]
    },
    {
     "name": "stderr",
     "output_type": "stream",
     "text": [
      "\r",
      " 95%|█████████▌| 105/110 [01:25<00:07,  1.54s/it]"
     ]
    },
    {
     "name": "stdout",
     "output_type": "stream",
     "text": [
      "105\n",
      "Mean a: 0.9913908913501271Mean b:0.0023547820316196654\n",
      "Max a: 1.0Max b:0.14592817970726524\n"
     ]
    },
    {
     "name": "stderr",
     "output_type": "stream",
     "text": [
      "\r",
      " 96%|█████████▋| 106/110 [01:27<00:05,  1.48s/it]"
     ]
    },
    {
     "name": "stdout",
     "output_type": "stream",
     "text": [
      "106\n",
      "Mean a: 0.9917389109230705Mean b:0.0022047539367196526\n",
      "Max a: 1.0Max b:0.13945586081073416\n"
     ]
    },
    {
     "name": "stderr",
     "output_type": "stream",
     "text": [
      "\r",
      " 97%|█████████▋| 107/110 [01:28<00:04,  1.47s/it]"
     ]
    },
    {
     "name": "stdout",
     "output_type": "stream",
     "text": [
      "107\n",
      "Mean a: 0.9920807428435781Mean b:0.0020593257048471883\n",
      "Max a: 1.0Max b:0.13273581117994754\n"
     ]
    },
    {
     "name": "stderr",
     "output_type": "stream",
     "text": [
      "\r",
      " 98%|█████████▊| 108/110 [01:29<00:02,  1.46s/it]"
     ]
    },
    {
     "name": "stdout",
     "output_type": "stream",
     "text": [
      "108\n",
      "Mean a: 0.9924159690491972Mean b:0.0019187175353641865\n",
      "Max a: 1.0Max b:0.12580208101797374\n"
     ]
    },
    {
     "name": "stderr",
     "output_type": "stream",
     "text": [
      "\r",
      " 99%|█████████▉| 109/110 [01:31<00:01,  1.56s/it]"
     ]
    },
    {
     "name": "stdout",
     "output_type": "stream",
     "text": [
      "109\n",
      "Mean a: 0.9927441727050488Mean b:0.0017831456301691223\n",
      "Max a: 1.0Max b:0.11869603490430368\n"
     ]
    },
    {
     "name": "stderr",
     "output_type": "stream",
     "text": [
      "100%|██████████| 110/110 [01:33<00:00,  1.65s/it]\n"
     ]
    }
   ],
   "source": [
    "print_every_n = 1\n",
    "fig,axes = plt.subplots(1,2)\n",
    "\n",
    "for i in tqdm(range(110)):\n",
    "    dm._next()\n",
    "    if i % print_every_n == 0:\n",
    "        print(i)\n",
    "        print(f\"Mean a: {dm.matrix_a.mean()}Mean b:{dm.matrix_b.mean()}\")\n",
    "        print(f\"Max a: {dm.matrix_a.max()}Max b:{dm.matrix_b.max()}\")\n",
    "        plthm(dm, i) "
   ]
  },
  {
   "cell_type": "code",
   "execution_count": null,
   "metadata": {},
   "outputs": [],
   "source": [
    "print(f\"Mean a: {dm.matrix_a.mean()}Mean b:{dm.matrix_b.mean()}\")\n",
    "print(f\"Max a: {dm.matrix_b.max()}Max b:{dm.matrix_b.max()}\")"
   ]
  },
  {
   "cell_type": "code",
   "execution_count": null,
   "metadata": {},
   "outputs": [],
   "source": [
    "print_every_n = 100\n",
    "fig,axes = plt.subplots(1,2)\n",
    "\n",
    "i = 0\n",
    "while True:\n",
    "    i += 1\n",
    "    dm._next()\n",
    "    if i % print_every_n == 0:\n",
    "#         print(i)\n",
    "#         print(f\"Mean a: {dm.mat[0].mean()}Mean b:{dm.mat[1].mean()}\")\n",
    "#         print(f\"Max a: {dm.mat[0].max()}Max b:{dm.mat[1].max()}\")\n",
    "        plthm(dm, i) "
   ]
  },
  {
   "cell_type": "code",
   "execution_count": null,
   "metadata": {
    "scrolled": true
   },
   "outputs": [],
   "source": [
    "print('done')"
   ]
  },
  {
   "cell_type": "code",
   "execution_count": null,
   "metadata": {},
   "outputs": [],
   "source": []
  },
  {
   "cell_type": "code",
   "execution_count": null,
   "metadata": {},
   "outputs": [],
   "source": [
    "# import cProfile\n",
    "# cProfile.run('dm._next()')"
   ]
  },
  {
   "cell_type": "code",
   "execution_count": 8,
   "metadata": {},
   "outputs": [],
   "source": [
    "# cProfile.run('dm._next()')"
   ]
  },
  {
   "cell_type": "code",
   "execution_count": 33,
   "metadata": {},
   "outputs": [],
   "source": [
    "dm = DiffMatrix(5,start_template='square')\n",
    "dm.fill_matrix_propper()\n",
    "dm.matrix_b[2][2] = 1"
   ]
  },
  {
   "cell_type": "code",
   "execution_count": 34,
   "metadata": {},
   "outputs": [
    {
     "data": {
      "text/plain": [
       "array([[1., 1., 1., 1., 1.],\n",
       "       [1., 1., 1., 1., 1.],\n",
       "       [1., 1., 1., 1., 1.],\n",
       "       [1., 1., 1., 1., 1.],\n",
       "       [1., 1., 1., 1., 1.]])"
      ]
     },
     "execution_count": 34,
     "metadata": {},
     "output_type": "execute_result"
    }
   ],
   "source": [
    "dm.matrix_a"
   ]
  },
  {
   "cell_type": "code",
   "execution_count": 35,
   "metadata": {},
   "outputs": [
    {
     "data": {
      "text/plain": [
       "array([[0., 0., 0., 0., 0.],\n",
       "       [0., 0., 0., 0., 0.],\n",
       "       [0., 0., 1., 0., 0.],\n",
       "       [0., 0., 0., 0., 0.],\n",
       "       [0., 0., 0., 0., 0.]])"
      ]
     },
     "execution_count": 35,
     "metadata": {},
     "output_type": "execute_result"
    }
   ],
   "source": [
    "dm.matrix_b"
   ]
  },
  {
   "cell_type": "code",
   "execution_count": 36,
   "metadata": {},
   "outputs": [
    {
     "name": "stdout",
     "output_type": "stream",
     "text": [
      "[[0. 0. 0. 0. 0.]\n",
      " [0. 0. 0. 0. 0.]\n",
      " [0. 0. 0. 0. 0.]\n",
      " [0. 0. 0. 0. 0.]\n",
      " [0. 0. 0. 0. 0.]]\n",
      "[[0. 0. 0. 0. 0.]\n",
      " [0. 0. 0. 0. 0.]\n",
      " [0. 0. 0. 0. 0.]\n",
      " [0. 0. 0. 0. 0.]\n",
      " [0. 0. 0. 0. 0.]]\n",
      "diff\n",
      "[[5.55111512e-17 5.55111512e-17 5.55111512e-17 5.55111512e-17\n",
      "  5.55111512e-17]\n",
      " [5.55111512e-17 5.55111512e-17 5.55111512e-17 5.55111512e-17\n",
      "  5.55111512e-17]\n",
      " [5.55111512e-17 5.55111512e-17 5.55111512e-17 5.55111512e-17\n",
      "  5.55111512e-17]\n",
      " [5.55111512e-17 5.55111512e-17 5.55111512e-17 5.55111512e-17\n",
      "  5.55111512e-17]\n",
      " [5.55111512e-17 5.55111512e-17 5.55111512e-17 5.55111512e-17\n",
      "  5.55111512e-17]]\n",
      "[[ 0.    0.    0.    0.    0.  ]\n",
      " [ 0.    0.05  0.2   0.05  0.  ]\n",
      " [ 0.    0.2  -1.    0.2   0.  ]\n",
      " [ 0.    0.05  0.2   0.05  0.  ]\n",
      " [ 0.    0.    0.    0.    0.  ]]\n",
      "feed\n",
      "[[5.55111512e-17 5.55111512e-17 5.55111512e-17 5.55111512e-17\n",
      "  5.55111512e-17]\n",
      " [5.55111512e-17 5.55111512e-17 5.55111512e-17 5.55111512e-17\n",
      "  5.55111512e-17]\n",
      " [5.55111512e-17 5.55111512e-17 5.55111512e-17 5.55111512e-17\n",
      "  5.55111512e-17]\n",
      " [5.55111512e-17 5.55111512e-17 5.55111512e-17 5.55111512e-17\n",
      "  5.55111512e-17]\n",
      " [5.55111512e-17 5.55111512e-17 5.55111512e-17 5.55111512e-17\n",
      "  5.55111512e-17]]\n",
      "[[ 0.     0.     0.     0.     0.   ]\n",
      " [ 0.     0.05   0.2    0.05   0.   ]\n",
      " [ 0.     0.2   -1.117  0.2    0.   ]\n",
      " [ 0.     0.05   0.2    0.05   0.   ]\n",
      " [ 0.     0.     0.     0.     0.   ]]\n",
      "react\n",
      "[[ 5.55111512e-17  5.55111512e-17  5.55111512e-17  5.55111512e-17\n",
      "   5.55111512e-17]\n",
      " [ 5.55111512e-17  5.55111512e-17  5.55111512e-17  5.55111512e-17\n",
      "   5.55111512e-17]\n",
      " [ 5.55111512e-17  5.55111512e-17 -1.00000000e+00  5.55111512e-17\n",
      "   5.55111512e-17]\n",
      " [ 5.55111512e-17  5.55111512e-17  5.55111512e-17  5.55111512e-17\n",
      "   5.55111512e-17]\n",
      " [ 5.55111512e-17  5.55111512e-17  5.55111512e-17  5.55111512e-17\n",
      "   5.55111512e-17]]\n",
      "[[ 0.     0.     0.     0.     0.   ]\n",
      " [ 0.     0.05   0.2    0.05   0.   ]\n",
      " [ 0.     0.2   -0.117  0.2    0.   ]\n",
      " [ 0.     0.05   0.2    0.05   0.   ]\n",
      " [ 0.     0.     0.     0.     0.   ]]\n"
     ]
    }
   ],
   "source": [
    "dm._next()"
   ]
  },
  {
   "cell_type": "code",
   "execution_count": 37,
   "metadata": {},
   "outputs": [
    {
     "data": {
      "text/plain": [
       "array([[1., 1., 1., 1., 1.],\n",
       "       [1., 1., 1., 1., 1.],\n",
       "       [1., 1., 0., 1., 1.],\n",
       "       [1., 1., 1., 1., 1.],\n",
       "       [1., 1., 1., 1., 1.]])"
      ]
     },
     "execution_count": 37,
     "metadata": {},
     "output_type": "execute_result"
    }
   ],
   "source": [
    "dm.matrix_a"
   ]
  },
  {
   "cell_type": "code",
   "execution_count": 38,
   "metadata": {},
   "outputs": [
    {
     "data": {
      "text/plain": [
       "array([[0.   , 0.   , 0.   , 0.   , 0.   ],\n",
       "       [0.   , 0.05 , 0.2  , 0.05 , 0.   ],\n",
       "       [0.   , 0.2  , 0.883, 0.2  , 0.   ],\n",
       "       [0.   , 0.05 , 0.2  , 0.05 , 0.   ],\n",
       "       [0.   , 0.   , 0.   , 0.   , 0.   ]])"
      ]
     },
     "execution_count": 38,
     "metadata": {},
     "output_type": "execute_result"
    }
   ],
   "source": [
    "dm.matrix_b"
   ]
  },
  {
   "cell_type": "code",
   "execution_count": null,
   "metadata": {},
   "outputs": [],
   "source": []
  }
 ],
 "metadata": {
  "kernelspec": {
   "display_name": "Python 3",
   "language": "python",
   "name": "python3"
  },
  "language_info": {
   "codemirror_mode": {
    "name": "ipython",
    "version": 3
   },
   "file_extension": ".py",
   "mimetype": "text/x-python",
   "name": "python",
   "nbconvert_exporter": "python",
   "pygments_lexer": "ipython3",
   "version": "3.7.3"
  }
 },
 "nbformat": 4,
 "nbformat_minor": 2
}
